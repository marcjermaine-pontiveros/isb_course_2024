{
  "cells": [
    {
      "cell_type": "markdown",
      "metadata": {
        "id": "view-in-github",
        "colab_type": "text"
      },
      "source": [
        "<a href=\"https://colab.research.google.com/github/marcjermaine-pontiveros/isb_course_2024/blob/main/16S_2024.ipynb\" target=\"_parent\"><img src=\"https://colab.research.google.com/assets/colab-badge.svg\" alt=\"Open In Colab\"/></a>"
      ]
    },
    {
      "cell_type": "markdown",
      "metadata": {
        "id": "2inlS7SNn0-o",
        "tags": []
      },
      "source": [
        "# 🦠 Amplicon Sequencing Data Analysis with QIIME 2\n",
        "\n",
        "### 🔗 Important Links\n",
        "- [Course Github](https://github.com/Gibbons-Lab/isb_course_2024): Github repository for the 2024 ISB Virtual Microbiome Series\n",
        "\n",
        "    - [Day 1 Slides](https://gibbons-lab.github.io/isb_course_2024/16S): Presentation slides that accompany this notebook\n",
        "\n",
        "    - [Day 1 Solutions](https://colab.research.google.com/github/Gibbons-Lab/isb_course_2024/blob/main/16S_2024_solutions.ipynb): Pre-run notebook\n",
        "\n",
        "    - [Treasure chest](https://github.com/Gibbons-Lab/isb_course_2024/tree/main/treasure_chest): All files generated in the notebooks\n",
        "    \n",
        "- [QIIME 2 view](http://view.qiime2.org): A browser-based interface for viewing QIIME artifacts and visualizations (tables and plots)\n",
        "- [QIIME 2 plugins](https://docs.qiime2.org/2024.5/plugins/): more information on the QIIME 2 plugins we're using today"
      ]
    },
    {
      "cell_type": "markdown",
      "metadata": {
        "id": "lcJVyVD80fAG"
      },
      "source": [
        "### 🛑 STOP! Before you run anything ...\n",
        "\n",
        "1. Save your own local copy of this notebook by using `File > Save a copy in Drive`. At some point you may be prompted to trust the notebook. We promise that it is safe 🤞\n",
        "\n",
        "2. Keep in mind, **the code in this notebook must be run IN ORDER** If you get lost or encounter errors, all outputs can be found in `materials/treasure chest` or on the link above."
      ]
    },
    {
      "cell_type": "markdown",
      "metadata": {
        "id": "xPV0Cul-Wd4F"
      },
      "source": [
        "**Disclaimer:** The Google Colab notebook environment will interpret any command as Python code by default. If we want to run bash commands we will have to prefix them by `!`. So any command you see with a leading `!` is a bash command and if you wanted to run it in your terminal you would omit the `!`. For example, if in the Colab notebook you ran `!wget` you would just run `wget` in your terminal."
      ]
    },
    {
      "cell_type": "markdown",
      "metadata": {
        "id": "UVawr3gG0fAG",
        "tags": []
      },
      "source": [
        "---\n",
        "# Setup"
      ]
    },
    {
      "cell_type": "markdown",
      "metadata": {
        "id": "CuWOn36b0fAH"
      },
      "source": [
        "QIIME 2 is usually installed by following the [official installation instructions](https://docs.qiime2.org/2024.5/install/). However, because we are using Google Colab and there are some caveats to using conda here, we will have to hack around the installation a little bit. But no worries, we provide a setup script below which does all this work for us. 😌\n",
        "\n",
        "So...let's start by pulling a local copy of the project repository down from GitHub. This repository, called `materials`, contains all the relevant data and other resources we'll need for this course."
      ]
    },
    {
      "cell_type": "code",
      "execution_count": 1,
      "metadata": {
        "colab": {
          "base_uri": "https://localhost:8080/"
        },
        "id": "9Cyg41Tcn1Ua",
        "outputId": "b1e052b2-89ad-4c5c-9b02-99eac56a7abd"
      },
      "outputs": [
        {
          "output_type": "stream",
          "name": "stdout",
          "text": [
            "Cloning into 'materials'...\n",
            "remote: Enumerating objects: 1066, done.\u001b[K\n",
            "remote: Counting objects: 100% (232/232), done.\u001b[K\n",
            "remote: Compressing objects: 100% (102/102), done.\u001b[K\n",
            "remote: Total 1066 (delta 188), reused 157 (delta 130), pack-reused 834 (from 1)\u001b[K\n",
            "Receiving objects: 100% (1066/1066), 202.90 MiB | 12.07 MiB/s, done.\n",
            "Resolving deltas: 100% (470/470), done.\n",
            "Updating files: 100% (622/622), done.\n"
          ]
        }
      ],
      "source": [
        "!git clone https://github.com/gibbons-lab/isb_course_2024 materials"
      ]
    },
    {
      "cell_type": "markdown",
      "metadata": {
        "id": "MQ9XVvOToEBR"
      },
      "source": [
        "To view the directory, you can click on the folder 📁 icon on the left. To run code from this directory, we will navigate to it via command line:"
      ]
    },
    {
      "cell_type": "code",
      "execution_count": 2,
      "metadata": {
        "colab": {
          "base_uri": "https://localhost:8080/"
        },
        "id": "GvNHs-EroFNM",
        "outputId": "4a00ad5f-ef5a-47a9-ad9f-34957b95820f"
      },
      "outputs": [
        {
          "output_type": "stream",
          "name": "stdout",
          "text": [
            "/content/materials\n"
          ]
        }
      ],
      "source": [
        "%cd materials"
      ]
    },
    {
      "cell_type": "markdown",
      "metadata": {
        "id": "IHvKnTbdypyp"
      },
      "source": [
        "Notice here we use ```%``` instead of ```!``` to run our command line function. This makes the path change to our directory _permanent_. Using the ```!``` operator only switches the interpreter to expect command line prompts temporarily.\n",
        "\n",
        "\n"
      ]
    },
    {
      "cell_type": "markdown",
      "metadata": {
        "id": "nJ56MqA50fAJ"
      },
      "source": [
        "Now that we have all our materials, we're _almost_ ready to get started - but not quite. Remember QIIME? We'll need to install that before getting into the actual analysis. Don't worry - this will only set up in the Colab notebook, not on your local machine.\n",
        "\n",
        "**Let's run the following cell, to install and setup QIIME2**"
      ]
    },
    {
      "cell_type": "code",
      "execution_count": 5,
      "metadata": {
        "colab": {
          "base_uri": "https://localhost:8080/",
          "height": 237
        },
        "id": "Inkvkt_DoSQT",
        "outputId": "4b57971c-582d-47ed-d373-6ce6fdbe4e3a"
      },
      "outputs": [
        {
          "output_type": "display_data",
          "data": {
            "text/plain": [
              "\u001b[2;36m[00:09:54]\u001b[0m\u001b[2;36m \u001b[0m🐍 Miniforge is already installed. Skipped.                                              \u001b]8;id=519822;file:///content/materials/setup_qiime2\u001b\\\u001b[2msetup_qiime2\u001b[0m\u001b]8;;\u001b\\\u001b[2m:\u001b[0m\u001b]8;id=239823;file:///content/materials/setup_qiime2#98\u001b\\\u001b[2m98\u001b[0m\u001b]8;;\u001b\\\n"
            ],
            "text/html": [
              "<pre style=\"white-space:pre;overflow-x:auto;line-height:normal;font-family:Menlo,'DejaVu Sans Mono',consolas,'Courier New',monospace\"><span style=\"color: #7fbfbf; text-decoration-color: #7fbfbf\">[00:09:54] </span>🐍 Miniforge is already installed. Skipped.                                              <a href=\"file:///content/materials/setup_qiime2\" target=\"_blank\"><span style=\"color: #7f7f7f; text-decoration-color: #7f7f7f\">setup_qiime2</span></a><span style=\"color: #7f7f7f; text-decoration-color: #7f7f7f\">:</span><a href=\"file:///content/materials/setup_qiime2#98\" target=\"_blank\"><span style=\"color: #7f7f7f; text-decoration-color: #7f7f7f\">98</span></a>\n",
              "</pre>\n"
            ]
          },
          "metadata": {}
        },
        {
          "output_type": "display_data",
          "data": {
            "text/plain": [
              "\u001b[2;36m          \u001b[0m\u001b[2;36m \u001b[0m🔍 Downloading Qiime \u001b[1;36m2\u001b[0m package list\u001b[33m...\u001b[0m                                                   \u001b]8;id=157012;file:///content/materials/setup_qiime2\u001b\\\u001b[2msetup_qiime2\u001b[0m\u001b]8;;\u001b\\\u001b[2m:\u001b[0m\u001b]8;id=514920;file:///content/materials/setup_qiime2#67\u001b\\\u001b[2m67\u001b[0m\u001b]8;;\u001b\\\n"
            ],
            "text/html": [
              "<pre style=\"white-space:pre;overflow-x:auto;line-height:normal;font-family:Menlo,'DejaVu Sans Mono',consolas,'Courier New',monospace\"><span style=\"color: #7fbfbf; text-decoration-color: #7fbfbf\">           </span>🔍 Downloading Qiime <span style=\"color: #008080; text-decoration-color: #008080; font-weight: bold\">2</span> package list<span style=\"color: #808000; text-decoration-color: #808000\">...</span>                                                   <a href=\"file:///content/materials/setup_qiime2\" target=\"_blank\"><span style=\"color: #7f7f7f; text-decoration-color: #7f7f7f\">setup_qiime2</span></a><span style=\"color: #7f7f7f; text-decoration-color: #7f7f7f\">:</span><a href=\"file:///content/materials/setup_qiime2#67\" target=\"_blank\"><span style=\"color: #7f7f7f; text-decoration-color: #7f7f7f\">67</span></a>\n",
              "</pre>\n"
            ]
          },
          "metadata": {}
        },
        {
          "output_type": "display_data",
          "data": {
            "text/plain": [
              "\u001b[2;36m[00:09:56]\u001b[0m\u001b[2;36m \u001b[0m\u001b[34m🔍 Done.\u001b[0m                                                                                 \u001b]8;id=253491;file:///content/materials/setup_qiime2\u001b\\\u001b[2msetup_qiime2\u001b[0m\u001b]8;;\u001b\\\u001b[2m:\u001b[0m\u001b]8;id=628378;file:///content/materials/setup_qiime2#73\u001b\\\u001b[2m73\u001b[0m\u001b]8;;\u001b\\\n"
            ],
            "text/html": [
              "<pre style=\"white-space:pre;overflow-x:auto;line-height:normal;font-family:Menlo,'DejaVu Sans Mono',consolas,'Courier New',monospace\"><span style=\"color: #7fbfbf; text-decoration-color: #7fbfbf\">[00:09:56] </span><span style=\"color: #000080; text-decoration-color: #000080\">🔍 Done.</span>                                                                                 <a href=\"file:///content/materials/setup_qiime2\" target=\"_blank\"><span style=\"color: #7f7f7f; text-decoration-color: #7f7f7f\">setup_qiime2</span></a><span style=\"color: #7f7f7f; text-decoration-color: #7f7f7f\">:</span><a href=\"file:///content/materials/setup_qiime2#73\" target=\"_blank\"><span style=\"color: #7f7f7f; text-decoration-color: #7f7f7f\">73</span></a>\n",
              "</pre>\n"
            ]
          },
          "metadata": {}
        },
        {
          "output_type": "display_data",
          "data": {
            "text/plain": [
              "\u001b[2;36m          \u001b[0m\u001b[2;36m \u001b[0m🔍 Installing Qiime \u001b[1;36m2\u001b[0m. This may take a little bit.                                       \u001b]8;id=280216;file:///content/materials/setup_qiime2\u001b\\\u001b[2msetup_qiime2\u001b[0m\u001b]8;;\u001b\\\u001b[2m:\u001b[0m\u001b]8;id=953488;file:///content/materials/setup_qiime2#67\u001b\\\u001b[2m67\u001b[0m\u001b]8;;\u001b\\\n",
              "\u001b[2;36m           \u001b[0m 🕐                                                                                      \u001b[2m               \u001b[0m\n"
            ],
            "text/html": [
              "<pre style=\"white-space:pre;overflow-x:auto;line-height:normal;font-family:Menlo,'DejaVu Sans Mono',consolas,'Courier New',monospace\"><span style=\"color: #7fbfbf; text-decoration-color: #7fbfbf\">           </span>🔍 Installing Qiime <span style=\"color: #008080; text-decoration-color: #008080; font-weight: bold\">2</span>. This may take a little bit.                                       <a href=\"file:///content/materials/setup_qiime2\" target=\"_blank\"><span style=\"color: #7f7f7f; text-decoration-color: #7f7f7f\">setup_qiime2</span></a><span style=\"color: #7f7f7f; text-decoration-color: #7f7f7f\">:</span><a href=\"file:///content/materials/setup_qiime2#67\" target=\"_blank\"><span style=\"color: #7f7f7f; text-decoration-color: #7f7f7f\">67</span></a>\n",
              "<span style=\"color: #7fbfbf; text-decoration-color: #7fbfbf\">           </span> 🕐                                                                                      <span style=\"color: #7f7f7f; text-decoration-color: #7f7f7f\">               </span>\n",
              "</pre>\n"
            ]
          },
          "metadata": {}
        },
        {
          "output_type": "display_data",
          "data": {
            "text/plain": [
              "\u001b[2;36m[00:15:24]\u001b[0m\u001b[2;36m \u001b[0m\u001b[34m🔍 Done.\u001b[0m                                                                                 \u001b]8;id=364889;file:///content/materials/setup_qiime2\u001b\\\u001b[2msetup_qiime2\u001b[0m\u001b]8;;\u001b\\\u001b[2m:\u001b[0m\u001b]8;id=47099;file:///content/materials/setup_qiime2#73\u001b\\\u001b[2m73\u001b[0m\u001b]8;;\u001b\\\n"
            ],
            "text/html": [
              "<pre style=\"white-space:pre;overflow-x:auto;line-height:normal;font-family:Menlo,'DejaVu Sans Mono',consolas,'Courier New',monospace\"><span style=\"color: #7fbfbf; text-decoration-color: #7fbfbf\">[00:15:24] </span><span style=\"color: #000080; text-decoration-color: #000080\">🔍 Done.</span>                                                                                 <a href=\"file:///content/materials/setup_qiime2\" target=\"_blank\"><span style=\"color: #7f7f7f; text-decoration-color: #7f7f7f\">setup_qiime2</span></a><span style=\"color: #7f7f7f; text-decoration-color: #7f7f7f\">:</span><a href=\"file:///content/materials/setup_qiime2#73\" target=\"_blank\"><span style=\"color: #7f7f7f; text-decoration-color: #7f7f7f\">73</span></a>\n",
              "</pre>\n"
            ]
          },
          "metadata": {}
        },
        {
          "output_type": "display_data",
          "data": {
            "text/plain": [
              "\u001b[2;36m          \u001b[0m\u001b[2;36m \u001b[0m🌲 Installing Empress\u001b[33m...\u001b[0m                                                                 \u001b]8;id=501058;file:///content/materials/setup_qiime2\u001b\\\u001b[2msetup_qiime2\u001b[0m\u001b]8;;\u001b\\\u001b[2m:\u001b[0m\u001b]8;id=967200;file:///content/materials/setup_qiime2#67\u001b\\\u001b[2m67\u001b[0m\u001b]8;;\u001b\\\n"
            ],
            "text/html": [
              "<pre style=\"white-space:pre;overflow-x:auto;line-height:normal;font-family:Menlo,'DejaVu Sans Mono',consolas,'Courier New',monospace\"><span style=\"color: #7fbfbf; text-decoration-color: #7fbfbf\">           </span>🌲 Installing Empress<span style=\"color: #808000; text-decoration-color: #808000\">...</span>                                                                 <a href=\"file:///content/materials/setup_qiime2\" target=\"_blank\"><span style=\"color: #7f7f7f; text-decoration-color: #7f7f7f\">setup_qiime2</span></a><span style=\"color: #7f7f7f; text-decoration-color: #7f7f7f\">:</span><a href=\"file:///content/materials/setup_qiime2#67\" target=\"_blank\"><span style=\"color: #7f7f7f; text-decoration-color: #7f7f7f\">67</span></a>\n",
              "</pre>\n"
            ]
          },
          "metadata": {}
        },
        {
          "output_type": "display_data",
          "data": {
            "text/plain": [
              "\u001b[2;36m[00:15:29]\u001b[0m\u001b[2;36m \u001b[0m\u001b[34m🌲 Done.\u001b[0m                                                                                 \u001b]8;id=493557;file:///content/materials/setup_qiime2\u001b\\\u001b[2msetup_qiime2\u001b[0m\u001b]8;;\u001b\\\u001b[2m:\u001b[0m\u001b]8;id=516181;file:///content/materials/setup_qiime2#73\u001b\\\u001b[2m73\u001b[0m\u001b]8;;\u001b\\\n"
            ],
            "text/html": [
              "<pre style=\"white-space:pre;overflow-x:auto;line-height:normal;font-family:Menlo,'DejaVu Sans Mono',consolas,'Courier New',monospace\"><span style=\"color: #7fbfbf; text-decoration-color: #7fbfbf\">[00:15:29] </span><span style=\"color: #000080; text-decoration-color: #000080\">🌲 Done.</span>                                                                                 <a href=\"file:///content/materials/setup_qiime2\" target=\"_blank\"><span style=\"color: #7f7f7f; text-decoration-color: #7f7f7f\">setup_qiime2</span></a><span style=\"color: #7f7f7f; text-decoration-color: #7f7f7f\">:</span><a href=\"file:///content/materials/setup_qiime2#73\" target=\"_blank\"><span style=\"color: #7f7f7f; text-decoration-color: #7f7f7f\">73</span></a>\n",
              "</pre>\n"
            ]
          },
          "metadata": {}
        },
        {
          "output_type": "display_data",
          "data": {
            "text/plain": [
              "\u001b[2;36m          \u001b[0m\u001b[2;36m \u001b[0m📊 Checking that Qiime \u001b[1;36m2\u001b[0m command line works\u001b[33m...\u001b[0m                                           \u001b]8;id=889219;file:///content/materials/setup_qiime2\u001b\\\u001b[2msetup_qiime2\u001b[0m\u001b]8;;\u001b\\\u001b[2m:\u001b[0m\u001b]8;id=954196;file:///content/materials/setup_qiime2#67\u001b\\\u001b[2m67\u001b[0m\u001b]8;;\u001b\\\n"
            ],
            "text/html": [
              "<pre style=\"white-space:pre;overflow-x:auto;line-height:normal;font-family:Menlo,'DejaVu Sans Mono',consolas,'Courier New',monospace\"><span style=\"color: #7fbfbf; text-decoration-color: #7fbfbf\">           </span>📊 Checking that Qiime <span style=\"color: #008080; text-decoration-color: #008080; font-weight: bold\">2</span> command line works<span style=\"color: #808000; text-decoration-color: #808000\">...</span>                                           <a href=\"file:///content/materials/setup_qiime2\" target=\"_blank\"><span style=\"color: #7f7f7f; text-decoration-color: #7f7f7f\">setup_qiime2</span></a><span style=\"color: #7f7f7f; text-decoration-color: #7f7f7f\">:</span><a href=\"file:///content/materials/setup_qiime2#67\" target=\"_blank\"><span style=\"color: #7f7f7f; text-decoration-color: #7f7f7f\">67</span></a>\n",
              "</pre>\n"
            ]
          },
          "metadata": {}
        },
        {
          "output_type": "display_data",
          "data": {
            "text/plain": [
              "\u001b[2;36m[00:15:42]\u001b[0m\u001b[2;36m \u001b[0m\u001b[34m📊 Qiime \u001b[0m\u001b[1;34m2\u001b[0m\u001b[34m command line looks good 🎉\u001b[0m                                                    \u001b]8;id=24274;file:///content/materials/setup_qiime2\u001b\\\u001b[2msetup_qiime2\u001b[0m\u001b]8;;\u001b\\\u001b[2m:\u001b[0m\u001b]8;id=665176;file:///content/materials/setup_qiime2#73\u001b\\\u001b[2m73\u001b[0m\u001b]8;;\u001b\\\n"
            ],
            "text/html": [
              "<pre style=\"white-space:pre;overflow-x:auto;line-height:normal;font-family:Menlo,'DejaVu Sans Mono',consolas,'Courier New',monospace\"><span style=\"color: #7fbfbf; text-decoration-color: #7fbfbf\">[00:15:42] </span><span style=\"color: #000080; text-decoration-color: #000080\">📊 Qiime </span><span style=\"color: #000080; text-decoration-color: #000080; font-weight: bold\">2</span><span style=\"color: #000080; text-decoration-color: #000080\"> command line looks good 🎉</span>                                                    <a href=\"file:///content/materials/setup_qiime2\" target=\"_blank\"><span style=\"color: #7f7f7f; text-decoration-color: #7f7f7f\">setup_qiime2</span></a><span style=\"color: #7f7f7f; text-decoration-color: #7f7f7f\">:</span><a href=\"file:///content/materials/setup_qiime2#73\" target=\"_blank\"><span style=\"color: #7f7f7f; text-decoration-color: #7f7f7f\">73</span></a>\n",
              "</pre>\n"
            ]
          },
          "metadata": {}
        },
        {
          "output_type": "display_data",
          "data": {
            "text/plain": [
              "\u001b[2;36m          \u001b[0m\u001b[2;36m \u001b[0m🧹 Cleaned up unneeded files.                                                            \u001b]8;id=931974;file:///content/materials/setup_qiime2\u001b\\\u001b[2msetup_qiime2\u001b[0m\u001b]8;;\u001b\\\u001b[2m:\u001b[0m\u001b]8;id=864836;file:///content/materials/setup_qiime2#62\u001b\\\u001b[2m62\u001b[0m\u001b]8;;\u001b\\\n"
            ],
            "text/html": [
              "<pre style=\"white-space:pre;overflow-x:auto;line-height:normal;font-family:Menlo,'DejaVu Sans Mono',consolas,'Courier New',monospace\"><span style=\"color: #7fbfbf; text-decoration-color: #7fbfbf\">           </span>🧹 Cleaned up unneeded files.                                                            <a href=\"file:///content/materials/setup_qiime2\" target=\"_blank\"><span style=\"color: #7f7f7f; text-decoration-color: #7f7f7f\">setup_qiime2</span></a><span style=\"color: #7f7f7f; text-decoration-color: #7f7f7f\">:</span><a href=\"file:///content/materials/setup_qiime2#62\" target=\"_blank\"><span style=\"color: #7f7f7f; text-decoration-color: #7f7f7f\">62</span></a>\n",
              "</pre>\n"
            ]
          },
          "metadata": {}
        },
        {
          "output_type": "display_data",
          "data": {
            "text/plain": [
              "\u001b[2;36m          \u001b[0m\u001b[2;36m \u001b[0m\u001b[32mEverything is A-OK. You can start using Qiime \u001b[0m\u001b[1;32m2\u001b[0m\u001b[32m now 👍\u001b[0m                                  \u001b]8;id=441267;file:///content/materials/setup_qiime2\u001b\\\u001b[2msetup_qiime2\u001b[0m\u001b]8;;\u001b\\\u001b[2m:\u001b[0m\u001b]8;id=857289;file:///content/materials/setup_qiime2#149\u001b\\\u001b[2m149\u001b[0m\u001b]8;;\u001b\\\n"
            ],
            "text/html": [
              "<pre style=\"white-space:pre;overflow-x:auto;line-height:normal;font-family:Menlo,'DejaVu Sans Mono',consolas,'Courier New',monospace\"><span style=\"color: #7fbfbf; text-decoration-color: #7fbfbf\">           </span><span style=\"color: #008000; text-decoration-color: #008000\">Everything is A-OK. You can start using Qiime </span><span style=\"color: #008000; text-decoration-color: #008000; font-weight: bold\">2</span><span style=\"color: #008000; text-decoration-color: #008000\"> now 👍</span>                                  <a href=\"file:///content/materials/setup_qiime2\" target=\"_blank\"><span style=\"color: #7f7f7f; text-decoration-color: #7f7f7f\">setup_qiime2</span></a><span style=\"color: #7f7f7f; text-decoration-color: #7f7f7f\">:</span><a href=\"file:///content/materials/setup_qiime2#149\" target=\"_blank\"><span style=\"color: #7f7f7f; text-decoration-color: #7f7f7f\">149</span></a>\n",
              "</pre>\n"
            ]
          },
          "metadata": {}
        }
      ],
      "source": [
        "%run setup_qiime2"
      ]
    },
    {
      "cell_type": "markdown",
      "metadata": {
        "id": "Pajd6O0OpE_f"
      },
      "source": [
        "⬆️ This will take some time (usually 10 to 15 minutes), so we'll switch back over to the [presentation](https://gibbons-lab.github.io/isb_course_2024/16S) while we wait.\n",
        "\n",
        "If you want to learn more about QIIME2, we recommend you check out the [documentation](https://docs.qiime2.org/). This will also explain how to install QIIME2 on your local machine 🖥"
      ]
    },
    {
      "cell_type": "markdown",
      "metadata": {
        "id": "RccdNYBeqQVn",
        "tags": []
      },
      "source": [
        "---\n",
        "# Data Import"
      ]
    },
    {
      "cell_type": "markdown",
      "metadata": {
        "id": "eGnNbM16Wd4H"
      },
      "source": [
        "QIIME2 can take us from raw sequences to ecological insight!\n",
        "![our workflow](https://github.com/Gibbons-Lab/isb_course_2024/raw/main/docs/16S/assets/steps.png)\n",
        "But we first need to get our raw data into QIIME2. To do this, we will need:\n",
        "1. **Raw sequencing files** (.fastq): FASTQ files contain both sequence and quality scores, as opposed to FASTA, which only have sequence. We want those quality scores so that we can trim or discard low-quality reads.\n",
        "\n",
        "2. **Metadata file** (.tsv): This file contains the sample id, along with all non-sequencing data for each sample. Here, our metadata includes disease status, age, sex, BMI, geographical location, and prescription drug use, as well as some information on diet and GI symptoms.\n",
        "\n",
        "3. **Manifest file** (.tsv): This file contains the sample id and the path to its sequencing file. This is how QIIME matches a sequence to its correct metadata. 📝"
      ]
    },
    {
      "cell_type": "markdown",
      "metadata": {
        "id": "bPExCVcl0fAK"
      },
      "source": [
        "Let's begin by taking a look at our data. In the `data` folder, you'll find 10 FASTQ files, a file manifest, and a metadata file.\n",
        "\n",
        "If we read in `manifest.tsv`, we can see that it is a table containing the _name_ and _filepath_ of all our samples."
      ]
    },
    {
      "cell_type": "code",
      "execution_count": 8,
      "metadata": {
        "colab": {
          "base_uri": "https://localhost:8080/",
          "height": 174
        },
        "id": "_pFaCnO6iqqW",
        "outputId": "e865e217-223f-49d5-bdb4-2e865f88477f"
      },
      "outputs": [
        {
          "output_type": "execute_result",
          "data": {
            "text/plain": [
              "  sample-id                                  absolute-filepath\n",
              "0  BANGK001  $PWD/data/fastq/Bangkulasi-Bacteria-Gram-posit...\n",
              "1  GUERR001  $PWD/data/fastq/Guerrero-Bacteria-Gram-positiv...\n",
              "2  PAMPL001  $PWD/data/fastq/Pamplona-Bacteria-Gram-positiv...\n",
              "3  PARAN001  $PWD/data/fastq/Paranaque-Bacteria-Gram-positi..."
            ],
            "text/html": [
              "\n",
              "  <div id=\"df-555dab13-6c99-4454-9dbc-4de2f4600aee\" class=\"colab-df-container\">\n",
              "    <div>\n",
              "<style scoped>\n",
              "    .dataframe tbody tr th:only-of-type {\n",
              "        vertical-align: middle;\n",
              "    }\n",
              "\n",
              "    .dataframe tbody tr th {\n",
              "        vertical-align: top;\n",
              "    }\n",
              "\n",
              "    .dataframe thead th {\n",
              "        text-align: right;\n",
              "    }\n",
              "</style>\n",
              "<table border=\"1\" class=\"dataframe\">\n",
              "  <thead>\n",
              "    <tr style=\"text-align: right;\">\n",
              "      <th></th>\n",
              "      <th>sample-id</th>\n",
              "      <th>absolute-filepath</th>\n",
              "    </tr>\n",
              "  </thead>\n",
              "  <tbody>\n",
              "    <tr>\n",
              "      <th>0</th>\n",
              "      <td>BANGK001</td>\n",
              "      <td>$PWD/data/fastq/Bangkulasi-Bacteria-Gram-posit...</td>\n",
              "    </tr>\n",
              "    <tr>\n",
              "      <th>1</th>\n",
              "      <td>GUERR001</td>\n",
              "      <td>$PWD/data/fastq/Guerrero-Bacteria-Gram-positiv...</td>\n",
              "    </tr>\n",
              "    <tr>\n",
              "      <th>2</th>\n",
              "      <td>PAMPL001</td>\n",
              "      <td>$PWD/data/fastq/Pamplona-Bacteria-Gram-positiv...</td>\n",
              "    </tr>\n",
              "    <tr>\n",
              "      <th>3</th>\n",
              "      <td>PARAN001</td>\n",
              "      <td>$PWD/data/fastq/Paranaque-Bacteria-Gram-positi...</td>\n",
              "    </tr>\n",
              "  </tbody>\n",
              "</table>\n",
              "</div>\n",
              "    <div class=\"colab-df-buttons\">\n",
              "\n",
              "  <div class=\"colab-df-container\">\n",
              "    <button class=\"colab-df-convert\" onclick=\"convertToInteractive('df-555dab13-6c99-4454-9dbc-4de2f4600aee')\"\n",
              "            title=\"Convert this dataframe to an interactive table.\"\n",
              "            style=\"display:none;\">\n",
              "\n",
              "  <svg xmlns=\"http://www.w3.org/2000/svg\" height=\"24px\" viewBox=\"0 -960 960 960\">\n",
              "    <path d=\"M120-120v-720h720v720H120Zm60-500h600v-160H180v160Zm220 220h160v-160H400v160Zm0 220h160v-160H400v160ZM180-400h160v-160H180v160Zm440 0h160v-160H620v160ZM180-180h160v-160H180v160Zm440 0h160v-160H620v160Z\"/>\n",
              "  </svg>\n",
              "    </button>\n",
              "\n",
              "  <style>\n",
              "    .colab-df-container {\n",
              "      display:flex;\n",
              "      gap: 12px;\n",
              "    }\n",
              "\n",
              "    .colab-df-convert {\n",
              "      background-color: #E8F0FE;\n",
              "      border: none;\n",
              "      border-radius: 50%;\n",
              "      cursor: pointer;\n",
              "      display: none;\n",
              "      fill: #1967D2;\n",
              "      height: 32px;\n",
              "      padding: 0 0 0 0;\n",
              "      width: 32px;\n",
              "    }\n",
              "\n",
              "    .colab-df-convert:hover {\n",
              "      background-color: #E2EBFA;\n",
              "      box-shadow: 0px 1px 2px rgba(60, 64, 67, 0.3), 0px 1px 3px 1px rgba(60, 64, 67, 0.15);\n",
              "      fill: #174EA6;\n",
              "    }\n",
              "\n",
              "    .colab-df-buttons div {\n",
              "      margin-bottom: 4px;\n",
              "    }\n",
              "\n",
              "    [theme=dark] .colab-df-convert {\n",
              "      background-color: #3B4455;\n",
              "      fill: #D2E3FC;\n",
              "    }\n",
              "\n",
              "    [theme=dark] .colab-df-convert:hover {\n",
              "      background-color: #434B5C;\n",
              "      box-shadow: 0px 1px 3px 1px rgba(0, 0, 0, 0.15);\n",
              "      filter: drop-shadow(0px 1px 2px rgba(0, 0, 0, 0.3));\n",
              "      fill: #FFFFFF;\n",
              "    }\n",
              "  </style>\n",
              "\n",
              "    <script>\n",
              "      const buttonEl =\n",
              "        document.querySelector('#df-555dab13-6c99-4454-9dbc-4de2f4600aee button.colab-df-convert');\n",
              "      buttonEl.style.display =\n",
              "        google.colab.kernel.accessAllowed ? 'block' : 'none';\n",
              "\n",
              "      async function convertToInteractive(key) {\n",
              "        const element = document.querySelector('#df-555dab13-6c99-4454-9dbc-4de2f4600aee');\n",
              "        const dataTable =\n",
              "          await google.colab.kernel.invokeFunction('convertToInteractive',\n",
              "                                                    [key], {});\n",
              "        if (!dataTable) return;\n",
              "\n",
              "        const docLinkHtml = 'Like what you see? Visit the ' +\n",
              "          '<a target=\"_blank\" href=https://colab.research.google.com/notebooks/data_table.ipynb>data table notebook</a>'\n",
              "          + ' to learn more about interactive tables.';\n",
              "        element.innerHTML = '';\n",
              "        dataTable['output_type'] = 'display_data';\n",
              "        await google.colab.output.renderOutput(dataTable, element);\n",
              "        const docLink = document.createElement('div');\n",
              "        docLink.innerHTML = docLinkHtml;\n",
              "        element.appendChild(docLink);\n",
              "      }\n",
              "    </script>\n",
              "  </div>\n",
              "\n",
              "\n",
              "    <div id=\"df-b30f924f-e82f-4d7f-903d-22caf6a4b520\">\n",
              "      <button class=\"colab-df-quickchart\" onclick=\"quickchart('df-b30f924f-e82f-4d7f-903d-22caf6a4b520')\"\n",
              "                title=\"Suggest charts\"\n",
              "                style=\"display:none;\">\n",
              "\n",
              "<svg xmlns=\"http://www.w3.org/2000/svg\" height=\"24px\"viewBox=\"0 0 24 24\"\n",
              "     width=\"24px\">\n",
              "    <g>\n",
              "        <path d=\"M19 3H5c-1.1 0-2 .9-2 2v14c0 1.1.9 2 2 2h14c1.1 0 2-.9 2-2V5c0-1.1-.9-2-2-2zM9 17H7v-7h2v7zm4 0h-2V7h2v10zm4 0h-2v-4h2v4z\"/>\n",
              "    </g>\n",
              "</svg>\n",
              "      </button>\n",
              "\n",
              "<style>\n",
              "  .colab-df-quickchart {\n",
              "      --bg-color: #E8F0FE;\n",
              "      --fill-color: #1967D2;\n",
              "      --hover-bg-color: #E2EBFA;\n",
              "      --hover-fill-color: #174EA6;\n",
              "      --disabled-fill-color: #AAA;\n",
              "      --disabled-bg-color: #DDD;\n",
              "  }\n",
              "\n",
              "  [theme=dark] .colab-df-quickchart {\n",
              "      --bg-color: #3B4455;\n",
              "      --fill-color: #D2E3FC;\n",
              "      --hover-bg-color: #434B5C;\n",
              "      --hover-fill-color: #FFFFFF;\n",
              "      --disabled-bg-color: #3B4455;\n",
              "      --disabled-fill-color: #666;\n",
              "  }\n",
              "\n",
              "  .colab-df-quickchart {\n",
              "    background-color: var(--bg-color);\n",
              "    border: none;\n",
              "    border-radius: 50%;\n",
              "    cursor: pointer;\n",
              "    display: none;\n",
              "    fill: var(--fill-color);\n",
              "    height: 32px;\n",
              "    padding: 0;\n",
              "    width: 32px;\n",
              "  }\n",
              "\n",
              "  .colab-df-quickchart:hover {\n",
              "    background-color: var(--hover-bg-color);\n",
              "    box-shadow: 0 1px 2px rgba(60, 64, 67, 0.3), 0 1px 3px 1px rgba(60, 64, 67, 0.15);\n",
              "    fill: var(--button-hover-fill-color);\n",
              "  }\n",
              "\n",
              "  .colab-df-quickchart-complete:disabled,\n",
              "  .colab-df-quickchart-complete:disabled:hover {\n",
              "    background-color: var(--disabled-bg-color);\n",
              "    fill: var(--disabled-fill-color);\n",
              "    box-shadow: none;\n",
              "  }\n",
              "\n",
              "  .colab-df-spinner {\n",
              "    border: 2px solid var(--fill-color);\n",
              "    border-color: transparent;\n",
              "    border-bottom-color: var(--fill-color);\n",
              "    animation:\n",
              "      spin 1s steps(1) infinite;\n",
              "  }\n",
              "\n",
              "  @keyframes spin {\n",
              "    0% {\n",
              "      border-color: transparent;\n",
              "      border-bottom-color: var(--fill-color);\n",
              "      border-left-color: var(--fill-color);\n",
              "    }\n",
              "    20% {\n",
              "      border-color: transparent;\n",
              "      border-left-color: var(--fill-color);\n",
              "      border-top-color: var(--fill-color);\n",
              "    }\n",
              "    30% {\n",
              "      border-color: transparent;\n",
              "      border-left-color: var(--fill-color);\n",
              "      border-top-color: var(--fill-color);\n",
              "      border-right-color: var(--fill-color);\n",
              "    }\n",
              "    40% {\n",
              "      border-color: transparent;\n",
              "      border-right-color: var(--fill-color);\n",
              "      border-top-color: var(--fill-color);\n",
              "    }\n",
              "    60% {\n",
              "      border-color: transparent;\n",
              "      border-right-color: var(--fill-color);\n",
              "    }\n",
              "    80% {\n",
              "      border-color: transparent;\n",
              "      border-right-color: var(--fill-color);\n",
              "      border-bottom-color: var(--fill-color);\n",
              "    }\n",
              "    90% {\n",
              "      border-color: transparent;\n",
              "      border-bottom-color: var(--fill-color);\n",
              "    }\n",
              "  }\n",
              "</style>\n",
              "\n",
              "      <script>\n",
              "        async function quickchart(key) {\n",
              "          const quickchartButtonEl =\n",
              "            document.querySelector('#' + key + ' button');\n",
              "          quickchartButtonEl.disabled = true;  // To prevent multiple clicks.\n",
              "          quickchartButtonEl.classList.add('colab-df-spinner');\n",
              "          try {\n",
              "            const charts = await google.colab.kernel.invokeFunction(\n",
              "                'suggestCharts', [key], {});\n",
              "          } catch (error) {\n",
              "            console.error('Error during call to suggestCharts:', error);\n",
              "          }\n",
              "          quickchartButtonEl.classList.remove('colab-df-spinner');\n",
              "          quickchartButtonEl.classList.add('colab-df-quickchart-complete');\n",
              "        }\n",
              "        (() => {\n",
              "          let quickchartButtonEl =\n",
              "            document.querySelector('#df-b30f924f-e82f-4d7f-903d-22caf6a4b520 button');\n",
              "          quickchartButtonEl.style.display =\n",
              "            google.colab.kernel.accessAllowed ? 'block' : 'none';\n",
              "        })();\n",
              "      </script>\n",
              "    </div>\n",
              "\n",
              "  <div id=\"id_23e6d708-9451-46b4-953d-786e733eeb7a\">\n",
              "    <style>\n",
              "      .colab-df-generate {\n",
              "        background-color: #E8F0FE;\n",
              "        border: none;\n",
              "        border-radius: 50%;\n",
              "        cursor: pointer;\n",
              "        display: none;\n",
              "        fill: #1967D2;\n",
              "        height: 32px;\n",
              "        padding: 0 0 0 0;\n",
              "        width: 32px;\n",
              "      }\n",
              "\n",
              "      .colab-df-generate:hover {\n",
              "        background-color: #E2EBFA;\n",
              "        box-shadow: 0px 1px 2px rgba(60, 64, 67, 0.3), 0px 1px 3px 1px rgba(60, 64, 67, 0.15);\n",
              "        fill: #174EA6;\n",
              "      }\n",
              "\n",
              "      [theme=dark] .colab-df-generate {\n",
              "        background-color: #3B4455;\n",
              "        fill: #D2E3FC;\n",
              "      }\n",
              "\n",
              "      [theme=dark] .colab-df-generate:hover {\n",
              "        background-color: #434B5C;\n",
              "        box-shadow: 0px 1px 3px 1px rgba(0, 0, 0, 0.15);\n",
              "        filter: drop-shadow(0px 1px 2px rgba(0, 0, 0, 0.3));\n",
              "        fill: #FFFFFF;\n",
              "      }\n",
              "    </style>\n",
              "    <button class=\"colab-df-generate\" onclick=\"generateWithVariable('manifest')\"\n",
              "            title=\"Generate code using this dataframe.\"\n",
              "            style=\"display:none;\">\n",
              "\n",
              "  <svg xmlns=\"http://www.w3.org/2000/svg\" height=\"24px\"viewBox=\"0 0 24 24\"\n",
              "       width=\"24px\">\n",
              "    <path d=\"M7,19H8.4L18.45,9,17,7.55,7,17.6ZM5,21V16.75L18.45,3.32a2,2,0,0,1,2.83,0l1.4,1.43a1.91,1.91,0,0,1,.58,1.4,1.91,1.91,0,0,1-.58,1.4L9.25,21ZM18.45,9,17,7.55Zm-12,3A5.31,5.31,0,0,0,4.9,8.1,5.31,5.31,0,0,0,1,6.5,5.31,5.31,0,0,0,4.9,4.9,5.31,5.31,0,0,0,6.5,1,5.31,5.31,0,0,0,8.1,4.9,5.31,5.31,0,0,0,12,6.5,5.46,5.46,0,0,0,6.5,12Z\"/>\n",
              "  </svg>\n",
              "    </button>\n",
              "    <script>\n",
              "      (() => {\n",
              "      const buttonEl =\n",
              "        document.querySelector('#id_23e6d708-9451-46b4-953d-786e733eeb7a button.colab-df-generate');\n",
              "      buttonEl.style.display =\n",
              "        google.colab.kernel.accessAllowed ? 'block' : 'none';\n",
              "\n",
              "      buttonEl.onclick = () => {\n",
              "        google.colab.notebook.generateWithVariable('manifest');\n",
              "      }\n",
              "      })();\n",
              "    </script>\n",
              "  </div>\n",
              "\n",
              "    </div>\n",
              "  </div>\n"
            ],
            "application/vnd.google.colaboratory.intrinsic+json": {
              "type": "dataframe",
              "variable_name": "manifest",
              "summary": "{\n  \"name\": \"manifest\",\n  \"rows\": 4,\n  \"fields\": [\n    {\n      \"column\": \"sample-id\",\n      \"properties\": {\n        \"dtype\": \"string\",\n        \"num_unique_values\": 4,\n        \"samples\": [\n          \"GUERR001\",\n          \"PARAN001\",\n          \"BANGK001\"\n        ],\n        \"semantic_type\": \"\",\n        \"description\": \"\"\n      }\n    },\n    {\n      \"column\": \"absolute-filepath\",\n      \"properties\": {\n        \"dtype\": \"string\",\n        \"num_unique_values\": 4,\n        \"samples\": [\n          \"$PWD/data/fastq/Guerrero-Bacteria-Gram-positive-negative.fastq\",\n          \"$PWD/data/fastq/Paranaque-Bacteria-Gram-positive-negative.fastq\",\n          \"$PWD/data/fastq/Bangkulasi-Bacteria-Gram-positive-negative.fastq\"\n        ],\n        \"semantic_type\": \"\",\n        \"description\": \"\"\n      }\n    }\n  ]\n}"
            }
          },
          "metadata": {},
          "execution_count": 8
        }
      ],
      "source": [
        "import pandas as pd\n",
        "manifest = pd.read_csv('data_dust/manifest.tsv', sep = '\\t')\n",
        "manifest"
      ]
    },
    {
      "cell_type": "markdown",
      "metadata": {
        "id": "vAIoc31bgTY_"
      },
      "source": [
        "We can also check out `metadata.tsv`, which will give us more context on our samples 🔬"
      ]
    },
    {
      "cell_type": "code",
      "execution_count": 9,
      "metadata": {
        "colab": {
          "base_uri": "https://localhost:8080/",
          "height": 174
        },
        "id": "sAfnoRnxgZOO",
        "outputId": "a82579f9-1ca1-4d74-a608-eb7e52ef57a0",
        "scrolled": true
      },
      "outputs": [
        {
          "output_type": "execute_result",
          "data": {
            "text/plain": [
              "         id    location\n",
              "0  BANGK001  Bangkulasi\n",
              "1  GUERR001    Guerrero\n",
              "2  PAMPL001    Pamplona\n",
              "3  PARAN001   Paranaque"
            ],
            "text/html": [
              "\n",
              "  <div id=\"df-6d957eab-f385-4b7d-8d01-43b2adae0413\" class=\"colab-df-container\">\n",
              "    <div>\n",
              "<style scoped>\n",
              "    .dataframe tbody tr th:only-of-type {\n",
              "        vertical-align: middle;\n",
              "    }\n",
              "\n",
              "    .dataframe tbody tr th {\n",
              "        vertical-align: top;\n",
              "    }\n",
              "\n",
              "    .dataframe thead th {\n",
              "        text-align: right;\n",
              "    }\n",
              "</style>\n",
              "<table border=\"1\" class=\"dataframe\">\n",
              "  <thead>\n",
              "    <tr style=\"text-align: right;\">\n",
              "      <th></th>\n",
              "      <th>id</th>\n",
              "      <th>location</th>\n",
              "    </tr>\n",
              "  </thead>\n",
              "  <tbody>\n",
              "    <tr>\n",
              "      <th>0</th>\n",
              "      <td>BANGK001</td>\n",
              "      <td>Bangkulasi</td>\n",
              "    </tr>\n",
              "    <tr>\n",
              "      <th>1</th>\n",
              "      <td>GUERR001</td>\n",
              "      <td>Guerrero</td>\n",
              "    </tr>\n",
              "    <tr>\n",
              "      <th>2</th>\n",
              "      <td>PAMPL001</td>\n",
              "      <td>Pamplona</td>\n",
              "    </tr>\n",
              "    <tr>\n",
              "      <th>3</th>\n",
              "      <td>PARAN001</td>\n",
              "      <td>Paranaque</td>\n",
              "    </tr>\n",
              "  </tbody>\n",
              "</table>\n",
              "</div>\n",
              "    <div class=\"colab-df-buttons\">\n",
              "\n",
              "  <div class=\"colab-df-container\">\n",
              "    <button class=\"colab-df-convert\" onclick=\"convertToInteractive('df-6d957eab-f385-4b7d-8d01-43b2adae0413')\"\n",
              "            title=\"Convert this dataframe to an interactive table.\"\n",
              "            style=\"display:none;\">\n",
              "\n",
              "  <svg xmlns=\"http://www.w3.org/2000/svg\" height=\"24px\" viewBox=\"0 -960 960 960\">\n",
              "    <path d=\"M120-120v-720h720v720H120Zm60-500h600v-160H180v160Zm220 220h160v-160H400v160Zm0 220h160v-160H400v160ZM180-400h160v-160H180v160Zm440 0h160v-160H620v160ZM180-180h160v-160H180v160Zm440 0h160v-160H620v160Z\"/>\n",
              "  </svg>\n",
              "    </button>\n",
              "\n",
              "  <style>\n",
              "    .colab-df-container {\n",
              "      display:flex;\n",
              "      gap: 12px;\n",
              "    }\n",
              "\n",
              "    .colab-df-convert {\n",
              "      background-color: #E8F0FE;\n",
              "      border: none;\n",
              "      border-radius: 50%;\n",
              "      cursor: pointer;\n",
              "      display: none;\n",
              "      fill: #1967D2;\n",
              "      height: 32px;\n",
              "      padding: 0 0 0 0;\n",
              "      width: 32px;\n",
              "    }\n",
              "\n",
              "    .colab-df-convert:hover {\n",
              "      background-color: #E2EBFA;\n",
              "      box-shadow: 0px 1px 2px rgba(60, 64, 67, 0.3), 0px 1px 3px 1px rgba(60, 64, 67, 0.15);\n",
              "      fill: #174EA6;\n",
              "    }\n",
              "\n",
              "    .colab-df-buttons div {\n",
              "      margin-bottom: 4px;\n",
              "    }\n",
              "\n",
              "    [theme=dark] .colab-df-convert {\n",
              "      background-color: #3B4455;\n",
              "      fill: #D2E3FC;\n",
              "    }\n",
              "\n",
              "    [theme=dark] .colab-df-convert:hover {\n",
              "      background-color: #434B5C;\n",
              "      box-shadow: 0px 1px 3px 1px rgba(0, 0, 0, 0.15);\n",
              "      filter: drop-shadow(0px 1px 2px rgba(0, 0, 0, 0.3));\n",
              "      fill: #FFFFFF;\n",
              "    }\n",
              "  </style>\n",
              "\n",
              "    <script>\n",
              "      const buttonEl =\n",
              "        document.querySelector('#df-6d957eab-f385-4b7d-8d01-43b2adae0413 button.colab-df-convert');\n",
              "      buttonEl.style.display =\n",
              "        google.colab.kernel.accessAllowed ? 'block' : 'none';\n",
              "\n",
              "      async function convertToInteractive(key) {\n",
              "        const element = document.querySelector('#df-6d957eab-f385-4b7d-8d01-43b2adae0413');\n",
              "        const dataTable =\n",
              "          await google.colab.kernel.invokeFunction('convertToInteractive',\n",
              "                                                    [key], {});\n",
              "        if (!dataTable) return;\n",
              "\n",
              "        const docLinkHtml = 'Like what you see? Visit the ' +\n",
              "          '<a target=\"_blank\" href=https://colab.research.google.com/notebooks/data_table.ipynb>data table notebook</a>'\n",
              "          + ' to learn more about interactive tables.';\n",
              "        element.innerHTML = '';\n",
              "        dataTable['output_type'] = 'display_data';\n",
              "        await google.colab.output.renderOutput(dataTable, element);\n",
              "        const docLink = document.createElement('div');\n",
              "        docLink.innerHTML = docLinkHtml;\n",
              "        element.appendChild(docLink);\n",
              "      }\n",
              "    </script>\n",
              "  </div>\n",
              "\n",
              "\n",
              "    <div id=\"df-9d240595-2911-47e8-a1f7-b5ec6d26fec8\">\n",
              "      <button class=\"colab-df-quickchart\" onclick=\"quickchart('df-9d240595-2911-47e8-a1f7-b5ec6d26fec8')\"\n",
              "                title=\"Suggest charts\"\n",
              "                style=\"display:none;\">\n",
              "\n",
              "<svg xmlns=\"http://www.w3.org/2000/svg\" height=\"24px\"viewBox=\"0 0 24 24\"\n",
              "     width=\"24px\">\n",
              "    <g>\n",
              "        <path d=\"M19 3H5c-1.1 0-2 .9-2 2v14c0 1.1.9 2 2 2h14c1.1 0 2-.9 2-2V5c0-1.1-.9-2-2-2zM9 17H7v-7h2v7zm4 0h-2V7h2v10zm4 0h-2v-4h2v4z\"/>\n",
              "    </g>\n",
              "</svg>\n",
              "      </button>\n",
              "\n",
              "<style>\n",
              "  .colab-df-quickchart {\n",
              "      --bg-color: #E8F0FE;\n",
              "      --fill-color: #1967D2;\n",
              "      --hover-bg-color: #E2EBFA;\n",
              "      --hover-fill-color: #174EA6;\n",
              "      --disabled-fill-color: #AAA;\n",
              "      --disabled-bg-color: #DDD;\n",
              "  }\n",
              "\n",
              "  [theme=dark] .colab-df-quickchart {\n",
              "      --bg-color: #3B4455;\n",
              "      --fill-color: #D2E3FC;\n",
              "      --hover-bg-color: #434B5C;\n",
              "      --hover-fill-color: #FFFFFF;\n",
              "      --disabled-bg-color: #3B4455;\n",
              "      --disabled-fill-color: #666;\n",
              "  }\n",
              "\n",
              "  .colab-df-quickchart {\n",
              "    background-color: var(--bg-color);\n",
              "    border: none;\n",
              "    border-radius: 50%;\n",
              "    cursor: pointer;\n",
              "    display: none;\n",
              "    fill: var(--fill-color);\n",
              "    height: 32px;\n",
              "    padding: 0;\n",
              "    width: 32px;\n",
              "  }\n",
              "\n",
              "  .colab-df-quickchart:hover {\n",
              "    background-color: var(--hover-bg-color);\n",
              "    box-shadow: 0 1px 2px rgba(60, 64, 67, 0.3), 0 1px 3px 1px rgba(60, 64, 67, 0.15);\n",
              "    fill: var(--button-hover-fill-color);\n",
              "  }\n",
              "\n",
              "  .colab-df-quickchart-complete:disabled,\n",
              "  .colab-df-quickchart-complete:disabled:hover {\n",
              "    background-color: var(--disabled-bg-color);\n",
              "    fill: var(--disabled-fill-color);\n",
              "    box-shadow: none;\n",
              "  }\n",
              "\n",
              "  .colab-df-spinner {\n",
              "    border: 2px solid var(--fill-color);\n",
              "    border-color: transparent;\n",
              "    border-bottom-color: var(--fill-color);\n",
              "    animation:\n",
              "      spin 1s steps(1) infinite;\n",
              "  }\n",
              "\n",
              "  @keyframes spin {\n",
              "    0% {\n",
              "      border-color: transparent;\n",
              "      border-bottom-color: var(--fill-color);\n",
              "      border-left-color: var(--fill-color);\n",
              "    }\n",
              "    20% {\n",
              "      border-color: transparent;\n",
              "      border-left-color: var(--fill-color);\n",
              "      border-top-color: var(--fill-color);\n",
              "    }\n",
              "    30% {\n",
              "      border-color: transparent;\n",
              "      border-left-color: var(--fill-color);\n",
              "      border-top-color: var(--fill-color);\n",
              "      border-right-color: var(--fill-color);\n",
              "    }\n",
              "    40% {\n",
              "      border-color: transparent;\n",
              "      border-right-color: var(--fill-color);\n",
              "      border-top-color: var(--fill-color);\n",
              "    }\n",
              "    60% {\n",
              "      border-color: transparent;\n",
              "      border-right-color: var(--fill-color);\n",
              "    }\n",
              "    80% {\n",
              "      border-color: transparent;\n",
              "      border-right-color: var(--fill-color);\n",
              "      border-bottom-color: var(--fill-color);\n",
              "    }\n",
              "    90% {\n",
              "      border-color: transparent;\n",
              "      border-bottom-color: var(--fill-color);\n",
              "    }\n",
              "  }\n",
              "</style>\n",
              "\n",
              "      <script>\n",
              "        async function quickchart(key) {\n",
              "          const quickchartButtonEl =\n",
              "            document.querySelector('#' + key + ' button');\n",
              "          quickchartButtonEl.disabled = true;  // To prevent multiple clicks.\n",
              "          quickchartButtonEl.classList.add('colab-df-spinner');\n",
              "          try {\n",
              "            const charts = await google.colab.kernel.invokeFunction(\n",
              "                'suggestCharts', [key], {});\n",
              "          } catch (error) {\n",
              "            console.error('Error during call to suggestCharts:', error);\n",
              "          }\n",
              "          quickchartButtonEl.classList.remove('colab-df-spinner');\n",
              "          quickchartButtonEl.classList.add('colab-df-quickchart-complete');\n",
              "        }\n",
              "        (() => {\n",
              "          let quickchartButtonEl =\n",
              "            document.querySelector('#df-9d240595-2911-47e8-a1f7-b5ec6d26fec8 button');\n",
              "          quickchartButtonEl.style.display =\n",
              "            google.colab.kernel.accessAllowed ? 'block' : 'none';\n",
              "        })();\n",
              "      </script>\n",
              "    </div>\n",
              "\n",
              "  <div id=\"id_8b5a43b0-ce02-439f-b004-a5d14a7b1dbc\">\n",
              "    <style>\n",
              "      .colab-df-generate {\n",
              "        background-color: #E8F0FE;\n",
              "        border: none;\n",
              "        border-radius: 50%;\n",
              "        cursor: pointer;\n",
              "        display: none;\n",
              "        fill: #1967D2;\n",
              "        height: 32px;\n",
              "        padding: 0 0 0 0;\n",
              "        width: 32px;\n",
              "      }\n",
              "\n",
              "      .colab-df-generate:hover {\n",
              "        background-color: #E2EBFA;\n",
              "        box-shadow: 0px 1px 2px rgba(60, 64, 67, 0.3), 0px 1px 3px 1px rgba(60, 64, 67, 0.15);\n",
              "        fill: #174EA6;\n",
              "      }\n",
              "\n",
              "      [theme=dark] .colab-df-generate {\n",
              "        background-color: #3B4455;\n",
              "        fill: #D2E3FC;\n",
              "      }\n",
              "\n",
              "      [theme=dark] .colab-df-generate:hover {\n",
              "        background-color: #434B5C;\n",
              "        box-shadow: 0px 1px 3px 1px rgba(0, 0, 0, 0.15);\n",
              "        filter: drop-shadow(0px 1px 2px rgba(0, 0, 0, 0.3));\n",
              "        fill: #FFFFFF;\n",
              "      }\n",
              "    </style>\n",
              "    <button class=\"colab-df-generate\" onclick=\"generateWithVariable('metadata')\"\n",
              "            title=\"Generate code using this dataframe.\"\n",
              "            style=\"display:none;\">\n",
              "\n",
              "  <svg xmlns=\"http://www.w3.org/2000/svg\" height=\"24px\"viewBox=\"0 0 24 24\"\n",
              "       width=\"24px\">\n",
              "    <path d=\"M7,19H8.4L18.45,9,17,7.55,7,17.6ZM5,21V16.75L18.45,3.32a2,2,0,0,1,2.83,0l1.4,1.43a1.91,1.91,0,0,1,.58,1.4,1.91,1.91,0,0,1-.58,1.4L9.25,21ZM18.45,9,17,7.55Zm-12,3A5.31,5.31,0,0,0,4.9,8.1,5.31,5.31,0,0,0,1,6.5,5.31,5.31,0,0,0,4.9,4.9,5.31,5.31,0,0,0,6.5,1,5.31,5.31,0,0,0,8.1,4.9,5.31,5.31,0,0,0,12,6.5,5.46,5.46,0,0,0,6.5,12Z\"/>\n",
              "  </svg>\n",
              "    </button>\n",
              "    <script>\n",
              "      (() => {\n",
              "      const buttonEl =\n",
              "        document.querySelector('#id_8b5a43b0-ce02-439f-b004-a5d14a7b1dbc button.colab-df-generate');\n",
              "      buttonEl.style.display =\n",
              "        google.colab.kernel.accessAllowed ? 'block' : 'none';\n",
              "\n",
              "      buttonEl.onclick = () => {\n",
              "        google.colab.notebook.generateWithVariable('metadata');\n",
              "      }\n",
              "      })();\n",
              "    </script>\n",
              "  </div>\n",
              "\n",
              "    </div>\n",
              "  </div>\n"
            ],
            "application/vnd.google.colaboratory.intrinsic+json": {
              "type": "dataframe",
              "variable_name": "metadata",
              "summary": "{\n  \"name\": \"metadata\",\n  \"rows\": 4,\n  \"fields\": [\n    {\n      \"column\": \"id\",\n      \"properties\": {\n        \"dtype\": \"string\",\n        \"num_unique_values\": 4,\n        \"samples\": [\n          \"GUERR001\",\n          \"PARAN001\",\n          \"BANGK001\"\n        ],\n        \"semantic_type\": \"\",\n        \"description\": \"\"\n      }\n    },\n    {\n      \"column\": \"location\",\n      \"properties\": {\n        \"dtype\": \"string\",\n        \"num_unique_values\": 4,\n        \"samples\": [\n          \"Guerrero\",\n          \"Paranaque\",\n          \"Bangkulasi\"\n        ],\n        \"semantic_type\": \"\",\n        \"description\": \"\"\n      }\n    }\n  ]\n}"
            }
          },
          "metadata": {},
          "execution_count": 9
        }
      ],
      "source": [
        "metadata = pd.read_csv('data_dust/metadata.tsv', sep='\\t')\n",
        "metadata"
      ]
    },
    {
      "cell_type": "markdown",
      "metadata": {
        "id": "_ssDjv0I0fAL"
      },
      "source": [
        "Looks good, all 10 FASTQ files are accounted for, five healthy and five with Parkinson's Disease. We can use the manifest file to import our files into QIIME."
      ]
    },
    {
      "cell_type": "markdown",
      "metadata": {
        "id": "qc10jMUYsXyh",
        "tags": []
      },
      "source": [
        "## FASTQ to Artifact"
      ]
    },
    {
      "cell_type": "markdown",
      "metadata": {
        "id": "HLF-zdrJXq7q"
      },
      "source": [
        "To use sequencing data in QIIME, we first need to turn the FASTQ files containing our data into QIIME artifacts. Using the manifest we just checked out, let's run our first command:\n",
        "\n",
        "-- as a reminder, adding ```!``` before the command tells the notebook this is a **bash** command, rather than python."
      ]
    },
    {
      "cell_type": "code",
      "execution_count": 12,
      "metadata": {
        "colab": {
          "base_uri": "https://localhost:8080/"
        },
        "id": "QmLebzqFX_0N",
        "outputId": "50560801-1008-42ab-a601-6604264e9291"
      },
      "outputs": [
        {
          "output_type": "stream",
          "name": "stdout",
          "text": [
            "\u001b[32mImported data_dust/manifest.tsv as SingleEndFastqManifestPhred33V2 to sequences.qza\u001b[0m\n",
            "\u001b[0m"
          ]
        }
      ],
      "source": [
        "!qiime tools import \\\n",
        "  --type 'SampleData[SequencesWithQuality]' \\\n",
        "  --input-path data_dust/manifest.tsv \\\n",
        "  --output-path sequences.qza \\\n",
        "  --input-format SingleEndFastqManifestPhred33V2"
      ]
    },
    {
      "cell_type": "markdown",
      "metadata": {
        "id": "N2Pmtg-aaqvr"
      },
      "source": [
        "Let's take a look a the command. QIIME commands take following format:\n",
        "\n",
        "```\n",
        "qiime plugin action --i-argument1 ... --o-argument2 ...\n",
        "```\n",
        "In the previous command, we are calling the ```tools``` plugin within QIIME2 to import our data. The following arguments designate where the manifest is, as well as where the output should be saved. We also tell QIIME what sort of input to expect.\n",
        "\n",
        "Argument types usually begin with a letter denoting their meaning:\n",
        "\n",
        "- `--i-...` = input files\n",
        "- `--o-...` = output files\n",
        "- `--p-...` = parameters\n",
        "- `--m-...` = metadata"
      ]
    },
    {
      "cell_type": "markdown",
      "metadata": {
        "id": "Wb__5zxD0fAM",
        "tags": []
      },
      "source": [
        "## Artifact to Visualization 🔎\n",
        "\n",
        "Before we move on, let's use QIIME to visualize our sequencing data."
      ]
    },
    {
      "cell_type": "code",
      "execution_count": 13,
      "metadata": {
        "colab": {
          "base_uri": "https://localhost:8080/"
        },
        "id": "nVPsDHTNvNUw",
        "outputId": "07ff10cc-ad26-42cb-a8d3-d3009a36d8f7"
      },
      "outputs": [
        {
          "output_type": "stream",
          "name": "stdout",
          "text": [
            "\u001b[32mSaved Visualization to: qualities.qzv\u001b[0m\n",
            "\u001b[0m"
          ]
        }
      ],
      "source": [
        "!qiime demux summarize \\\n",
        "--i-data sequences.qza \\\n",
        "--o-visualization qualities.qzv"
      ]
    },
    {
      "cell_type": "markdown",
      "metadata": {
        "id": "o29TMwWOy9L1"
      },
      "source": [
        ".qzv files like the one we just produced are visualization. You can view the plot by **downloading the file and opening it using http://view.qiime2.org**. To download the file click on the folder symbol to the left, open the `materials` folder, and choose download from the dot menu next to the `qualities.qzv` file."
      ]
    },
    {
      "cell_type": "markdown",
      "metadata": {
        "id": "va8RVKqP0fAM",
        "tags": []
      },
      "source": [
        "---\n",
        "# Quality Filtering: From Sequence to ASV"
      ]
    },
    {
      "cell_type": "markdown",
      "metadata": {
        "id": "Lxb_lE8l0fAN"
      },
      "source": [
        "\n",
        "Before we can use our sequencing data, we need to \"denoise\" it. To do this, we'll use a *plugin* called ```DADA2```. This involves a few things:\n",
        "\n",
        "1. filter and trim the reads\n",
        "2. find the most likely set of unique sequences in the sample (ASVs)\n",
        "3. remove chimeras\n",
        "4. count the abundances of each ASV\n",
        "\n",
        "\n",
        "This command will take a little time - let's run it, and head back to the presentation to discuss what's happening."
      ]
    },
    {
      "cell_type": "code",
      "execution_count": 14,
      "metadata": {
        "colab": {
          "base_uri": "https://localhost:8080/"
        },
        "id": "HclmzHqyacLU",
        "outputId": "68598caf-6309-4ff3-e89b-13fdc85b0669"
      },
      "outputs": [
        {
          "output_type": "stream",
          "name": "stdout",
          "text": [
            "Running external command line application(s). This may print messages to stdout and/or stderr.\n",
            "The command(s) being run are below. These commands cannot be manually re-run as they will depend on temporary files that no longer exist.\n",
            "\n",
            "Command: run_dada.R --input_directory /tmp/qiime2/root/data/1e92a0b3-2647-45ff-8982-79ab7b7e39f9/data --output_path /tmp/tmpjg30tcxy/output.tsv.biom --output_track /tmp/tmpjg30tcxy/track.tsv --filtered_directory /tmp/tmpjg30tcxy --truncation_length 150 --trim_left 0 --max_expected_errors 2.0 --truncation_quality_score 2 --max_length Inf --pooling_method independent --chimera_method consensus --min_parental_fold 1.0 --allow_one_off False --num_threads 2 --learn_min_reads 1000000 --homopolymer_gap_penalty NULL --band_size 16\n",
            "\n",
            "Warning message:\n",
            "package ‘optparse’ was built under R version 4.2.3 \n",
            "R version 4.2.2 (2022-10-31) \n",
            "Loading required package: Rcpp\n",
            "\u001b[?25hDADA2: 1.26.0 / Rcpp: 1.0.11 / RcppParallel: 5.1.6 \n",
            "\u001b[?25h\u001b[?25h2) Filtering \u001b[?25h\u001b[?25h....\u001b[?25h\u001b[?25h\u001b[?25h\n",
            "\u001b[?25h\u001b[?25h3) Learning Error Rates\n",
            "\u001b[?25h8975100 total bases in 59834 reads from 4 samples will be used for learning the error rates.\n",
            "\u001b[?25h4) Denoise samples \n",
            "....\n",
            "\u001b[?25h5) Remove chimeras (method = consensus)\n",
            "\u001b[?25h\u001b[?25h6) Report read numbers through the pipeline\n",
            "\u001b[?25h\u001b[?25h7) Write output\n",
            "\u001b[?25h\u001b[?25h\u001b[?25h\u001b[?25h\u001b[?25h\u001b[?25h\u001b[?25h\u001b[32mSaved FeatureTable[Frequency] to: dada/table.qza\u001b[0m\n",
            "\u001b[32mSaved FeatureData[Sequence] to: dada/representative_sequences.qza\u001b[0m\n",
            "\u001b[32mSaved SampleData[DADA2Stats] to: dada/denoising_stats.qza\u001b[0m\n",
            "\u001b[0m"
          ]
        }
      ],
      "source": [
        "!qiime dada2 denoise-single \\\n",
        "    --i-demultiplexed-seqs sequences.qza \\\n",
        "    --p-trunc-len 150 \\\n",
        "    --p-n-threads 2 \\\n",
        "    --output-dir dada --verbose"
      ]
    },
    {
      "cell_type": "markdown",
      "metadata": {
        "id": "sEs5k1Za-54R"
      },
      "source": [
        "\n",
        "If this step takes too long or fails, you can also copy the results from the treasure chest with the following command."
      ]
    },
    {
      "cell_type": "code",
      "execution_count": null,
      "metadata": {
        "id": "-Sba9UTNeoji"
      },
      "outputs": [],
      "source": [
        "# obscure magic that will only copy if the previous command failed\n",
        "# ![ -d dada ] || cp -r treasure_chest/dada ."
      ]
    },
    {
      "cell_type": "markdown",
      "metadata": {
        "id": "21bsdzAKWd4I"
      },
      "source": [
        "If we open up the `dada` folder 📁, we will see several outputs.\n",
        "- `representative_sequences.qza` is our *ASV abundance table* 🧬\n",
        "- `denoising-stats.qza` contains the *denoising statistics* 📊\n",
        "\n",
        "We'll want to look at the denoising statistics to make sure the denoising went well. It is normal to lose between 5-25% of reads to chimeras, but major loss could be due to running too many PCR cycles.\n",
        "\n",
        "As mentioned before, we can't view QIIME *artifacts* directly, but we can convert them to *visualizations* using the action `tabulate` from the plugin `metadata`."
      ]
    },
    {
      "cell_type": "code",
      "execution_count": 15,
      "metadata": {
        "colab": {
          "base_uri": "https://localhost:8080/"
        },
        "id": "z-iW0UBd_Iiu",
        "outputId": "23b821a0-5521-43e0-eb82-0a896590ca38"
      },
      "outputs": [
        {
          "output_type": "stream",
          "name": "stdout",
          "text": [
            "\u001b[32mSaved Visualization to: dada/denoising-stats.qzv\u001b[0m\n",
            "\u001b[0m"
          ]
        }
      ],
      "source": [
        "!qiime metadata tabulate \\\n",
        "    --m-input-file dada/denoising_stats.qza \\\n",
        "    --o-visualization dada/denoising-stats.qzv"
      ]
    },
    {
      "cell_type": "code",
      "source": [
        "!ls"
      ],
      "metadata": {
        "id": "lSW7lHgUdAF-",
        "outputId": "8f931879-02e8-4523-9948-17d250d1025d",
        "colab": {
          "base_uri": "https://localhost:8080/"
        }
      },
      "execution_count": 18,
      "outputs": [
        {
          "output_type": "stream",
          "name": "stdout",
          "text": [
            "16S_2024.ipynb\t\t  micom_2024.ipynb\n",
            "16S_2024_solutions.ipynb  micom_2024_solutions.ipynb\n",
            "agora103_genus.qza\t  ncbi-refseq-genus-515f-806r.qza\n",
            "CODE_OF_CONDUCT.md\t  qualities.qzv\n",
            "conda_day1.yml\t\t  README.md\n",
            "conda_day2.yml\t\t  sequences.qza\n",
            "dada\t\t\t  setup_hybrid\n",
            "data\t\t\t  setup_qiime2\n",
            "data_dust\t\t  treasure_chest\n",
            "docs\t\t\t  tree\n",
            "illustrations\t\t  western_diet_gut_agora.qza\n",
            "LICENSE\n"
          ]
        }
      ]
    },
    {
      "cell_type": "markdown",
      "metadata": {
        "id": "TWqEgfzRKA5t"
      },
      "source": [
        "Like before, we can download the .qzv file and visualize the results using the [QIIME2 Viewer](https://view.qiime2.org/).\n",
        "\n",
        "It's important to understand what this output tells us. For instance, what percent of reads in our data pass the filtering step? What percent of reads were non-chimeric? Differences in these metrics between samples can affect diversity metrics."
      ]
    },
    {
      "cell_type": "markdown",
      "metadata": {
        "id": "RJxZhRHBWd4J"
      },
      "source": [
        "For more information on paired-end quality filtering, check out the [2023 course](https://github.com/Gibbons-Lab/isb_course_2023)!"
      ]
    },
    {
      "cell_type": "markdown",
      "metadata": {
        "id": "mQKTRQXJ0fAO",
        "tags": []
      },
      "source": [
        "---\n",
        "# Phylogenetics"
      ]
    },
    {
      "cell_type": "markdown",
      "metadata": {
        "id": "S5KOUCVdWd4J"
      },
      "source": [
        "Now that we have an ASV table, we can calculate diversity metrics! But first, head back to the [presentation](https://gibbons-lab.github.io/isb_course_2024/16S) for an introduction to diversity!\n",
        "\n",
        "Note: we're getting into analyses that some may prefer to perform in RStudio or Jupyter Notebooks, without the use of the QIIME framework. For example, diversity analyses can be performed using `scikit-bio` in Python or `vegan` in R. In fact, QIIME2 is using `scikit-bio` and `vegan` under the hood for its diversity calculations!"
      ]
    },
    {
      "cell_type": "markdown",
      "metadata": {
        "id": "bPoyj-6c0fAU",
        "tags": []
      },
      "source": [
        "### From ASVs to Phylogenetic Trees with QIIME2 `phylogeny`"
      ]
    },
    {
      "cell_type": "markdown",
      "metadata": {
        "id": "Bw8D0aML0fAU"
      },
      "source": [
        "Some *diversity metrics* are calculated using **phylogenetic distance**, so let's start by building a phylogenetic tree for our sequences using the following command. This time, we call the `phylogeny` plugin in QIIME2."
      ]
    },
    {
      "cell_type": "code",
      "execution_count": 16,
      "metadata": {
        "colab": {
          "base_uri": "https://localhost:8080/"
        },
        "id": "Ym7blrPpKQuJ",
        "outputId": "750143e8-9300-4fc5-ddd2-3c808f9ad788"
      },
      "outputs": [
        {
          "output_type": "stream",
          "name": "stdout",
          "text": [
            "\u001b[32mSaved FeatureData[AlignedSequence] to: tree/alignment.qza\u001b[0m\n",
            "\u001b[32mSaved FeatureData[AlignedSequence] to: tree/masked_alignment.qza\u001b[0m\n",
            "\u001b[32mSaved Phylogeny[Unrooted] to: tree/tree.qza\u001b[0m\n",
            "\u001b[32mSaved Phylogeny[Rooted] to: tree/rooted_tree.qza\u001b[0m\n",
            "\u001b[0m"
          ]
        }
      ],
      "source": [
        "!qiime phylogeny align-to-tree-mafft-fasttree \\\n",
        "    --i-sequences dada/representative_sequences.qza \\\n",
        "    --output-dir tree"
      ]
    },
    {
      "cell_type": "markdown",
      "metadata": {
        "id": "T1jbqaW1hrmQ"
      },
      "source": [
        "We can create a visualization for the tree using the `empress` QIIME 2 plugin. See [documentation](https://github.com/biocore/empress) for more details."
      ]
    },
    {
      "cell_type": "code",
      "execution_count": 17,
      "metadata": {
        "colab": {
          "base_uri": "https://localhost:8080/"
        },
        "id": "2Ttf0RTyhaPH",
        "outputId": "9806fa92-e1c8-4b00-8b12-0be420b3a107"
      },
      "outputs": [
        {
          "output_type": "stream",
          "name": "stdout",
          "text": [
            "\u001b[32mSaved Visualization to: tree/empress.qzv\u001b[0m\n",
            "\u001b[0m"
          ]
        }
      ],
      "source": [
        "!qiime empress tree-plot \\\n",
        "    --i-tree tree/rooted_tree.qza \\\n",
        "    --o-visualization tree/empress.qzv"
      ]
    },
    {
      "cell_type": "markdown",
      "metadata": {
        "id": "GPOSLeLTWd4M"
      },
      "source": [
        "---\n",
        "# Diversity"
      ]
    },
    {
      "cell_type": "markdown",
      "metadata": {
        "id": "H4fTVpeToufK",
        "tags": []
      },
      "source": [
        "## Part 1: The Basics"
      ]
    },
    {
      "cell_type": "markdown",
      "metadata": {
        "id": "dyp1iAoW0fAV"
      },
      "source": [
        "The QIIME2 `diversity` plugin has an action called `core-metrics-phylogenetic`, which calculates _several_ phylogenetic and non-phylogenetic diversity metrics.\n",
        "\n",
        "We can use our table and tree to calculate several diversity metrics. To account for variations in **sampling depth**, we'll provide QIIME2 with a cutoff at which we will **rarefy** all our samples. Rarefaction  **randomly** selects sequences, so your results might look a little different from mine. We'll also pass in our metadata file, so we can keep track of which samples come from each group."
      ]
    },
    {
      "cell_type": "code",
      "execution_count": 20,
      "metadata": {
        "colab": {
          "base_uri": "https://localhost:8080/"
        },
        "id": "1YqaTqS5huAz",
        "outputId": "075a4e07-e1b7-4b5d-cae3-c7597d4daa83"
      },
      "outputs": [
        {
          "output_type": "stream",
          "name": "stdout",
          "text": [
            "\u001b[32mSaved FeatureTable[Frequency] to: diversity/rarefied_table.qza\u001b[0m\n",
            "\u001b[32mSaved SampleData[AlphaDiversity] to: diversity/faith_pd_vector.qza\u001b[0m\n",
            "\u001b[32mSaved SampleData[AlphaDiversity] to: diversity/observed_features_vector.qza\u001b[0m\n",
            "\u001b[32mSaved SampleData[AlphaDiversity] to: diversity/shannon_vector.qza\u001b[0m\n",
            "\u001b[32mSaved SampleData[AlphaDiversity] to: diversity/evenness_vector.qza\u001b[0m\n",
            "\u001b[32mSaved DistanceMatrix to: diversity/unweighted_unifrac_distance_matrix.qza\u001b[0m\n",
            "\u001b[32mSaved DistanceMatrix to: diversity/weighted_unifrac_distance_matrix.qza\u001b[0m\n",
            "\u001b[32mSaved DistanceMatrix to: diversity/jaccard_distance_matrix.qza\u001b[0m\n",
            "\u001b[32mSaved DistanceMatrix to: diversity/bray_curtis_distance_matrix.qza\u001b[0m\n",
            "\u001b[32mSaved PCoAResults to: diversity/unweighted_unifrac_pcoa_results.qza\u001b[0m\n",
            "\u001b[32mSaved PCoAResults to: diversity/weighted_unifrac_pcoa_results.qza\u001b[0m\n",
            "\u001b[32mSaved PCoAResults to: diversity/jaccard_pcoa_results.qza\u001b[0m\n",
            "\u001b[32mSaved PCoAResults to: diversity/bray_curtis_pcoa_results.qza\u001b[0m\n",
            "\u001b[32mSaved Visualization to: diversity/unweighted_unifrac_emperor.qzv\u001b[0m\n",
            "\u001b[32mSaved Visualization to: diversity/weighted_unifrac_emperor.qzv\u001b[0m\n",
            "\u001b[32mSaved Visualization to: diversity/jaccard_emperor.qzv\u001b[0m\n",
            "\u001b[32mSaved Visualization to: diversity/bray_curtis_emperor.qzv\u001b[0m\n",
            "\u001b[0m"
          ]
        }
      ],
      "source": [
        "!qiime diversity core-metrics-phylogenetic \\\n",
        "    --i-table dada/table.qza \\\n",
        "    --i-phylogeny tree/rooted_tree.qza \\\n",
        "    --p-sampling-depth 5000 \\\n",
        "    --m-metadata-file data_dust/metadata.tsv \\\n",
        "    --output-dir diversity"
      ]
    },
    {
      "cell_type": "markdown",
      "metadata": {
        "id": "7kiYQC_30fAW"
      },
      "source": [
        "If you open the `diversity` folder, you'll see that we calculated all of the diversity metrics I just mentioned. For more information on how these diversity metrics are calculated and interpreted, check out this QIIME [forum post](https://forum.qiime2.org/t/alpha-and-beta-diversity-explanations-and-commands/2282).\n",
        "\n",
        "But what we're really interested in is whether diversity differs *significantly* between disease and healthy samples, or other covariates. Therefore, we will need to do statistical tests.\n",
        "\n",
        "Head back to the [slides](https://gibbons-lab.github.io/isb_course_2024/16S), and we'll go over some types of statistical tests, and when to use them."
      ]
    },
    {
      "cell_type": "markdown",
      "metadata": {
        "id": "XslTNgFBg5qp",
        "tags": []
      },
      "source": [
        "### Alpha diversity: richness and evenness _within_ a sample"
      ]
    },
    {
      "cell_type": "markdown",
      "metadata": {
        "id": "AVT3NfDT0fAW"
      },
      "source": [
        "We get a bunch of outputs from the previous command - measures of both alpha and beta diversity. To start, let's use the Shannon vector in the output directory to create a visualization of alpha diversity across samples. Generally, healthy, long-living individuals have balanced diverse microbiomes. However, this isn't necessarily a direct indicator of health or disease. Let's see how it looks in our samples"
      ]
    },
    {
      "cell_type": "code",
      "execution_count": null,
      "metadata": {
        "id": "ne2WybKgh6fv"
      },
      "outputs": [],
      "source": [
        "!qiime diversity alpha-group-significance \\\n",
        "    --i-alpha-diversity diversity/shannon_vector.qza \\\n",
        "    --m-metadata-file data_dust/metadata.tsv \\\n",
        "    --o-visualization diversity/alpha_groups.qzv"
      ]
    },
    {
      "cell_type": "markdown",
      "metadata": {
        "id": "HzF0iOjD0fAW"
      },
      "source": [
        "Like before, we can download the visualization and open it with the [QIIME2 viewer](http://view.qiime2.org)."
      ]
    },
    {
      "cell_type": "markdown",
      "metadata": {
        "id": "V5eJbSNo0fAX",
        "tags": []
      },
      "source": [
        "### Beta diversity: distance between samples"
      ]
    },
    {
      "cell_type": "markdown",
      "metadata": {
        "id": "VNmxg2lmjyHE"
      },
      "source": [
        "Let's visualize the beta diversity and see how they separate. For this we'll look at weighted UniFrac. This time, we'll have to download the file ⬅️\n",
        "\n",
        "We can check for 'significant' separation between samples using PERMANOVA. We can do this with the diversity plugin in QIIME2."
      ]
    },
    {
      "cell_type": "code",
      "execution_count": null,
      "metadata": {
        "id": "WMASNLaWjxwD"
      },
      "outputs": [],
      "source": [
        "!qiime diversity adonis \\\n",
        "    --i-distance-matrix diversity/weighted_unifrac_distance_matrix.qza \\\n",
        "    --m-metadata-file data/metadata.tsv \\\n",
        "    --p-formula \"location\" \\\n",
        "    --p-n-jobs 2 \\\n",
        "    --o-visualization diversity/permanova.qzv"
      ]
    },
    {
      "cell_type": "markdown",
      "metadata": {
        "id": "YtogNk5h0fAY"
      },
      "source": [
        "We already ran a PCoAs for each distance metric, and we can look at them if we open `weighted_unifrac_emperor.qzv`, `unweighted_unifrac_emperor.qzv`, `bray_curtis_emperor.qzv`, or `jaccard_emperor.qzv` in [QIIME2 viewer](http://view.qiime2.org)."
      ]
    },
    {
      "cell_type": "markdown",
      "metadata": {
        "id": "hndTNWz_Wd4M"
      },
      "source": [
        "### Are these results informative? A discussion of sample size, effect size, and confounding"
      ]
    },
    {
      "cell_type": "markdown",
      "metadata": {
        "id": "ho6ujIY1Wd4M"
      },
      "source": [
        "These results aren't very informative, and in some cases they are counterintuitive. There are several reasons this may be:\n",
        "\n",
        "1. **Small sample size:** We are using a very small sample size (n = 10). Even if we could observe trends, we wouldn't expect statistical significance.\n",
        "\n",
        "2. **Alpha diversity is a very coarse-grain metric:** Shannon Index attempts to summarize microbiome diversity (very complicated) into a single number.\n",
        "\n",
        "3. **Strong confounders:** This data is from an observational study, were confounders were not controlled. Some confounders (like diet and drug exposure) are known to have strong effects on diversity, which may conceal smaller relationships between the microme and a variable of interest (like disease status).\n",
        "\n",
        "In observational studies, it is common to **stratify** across confounders, or include them as **covariates** in regressions. But with a sample size n = 10, we can really only test 1 variable without breaking assumptions.\n",
        "\n",
        "**But what if we had a bigger sample size?** This would open the door to more types of analyses. We couldn't process the entire dataset on Colab due to limited computational power, but luckily, **we've pre-processed the entire dataset for you**!"
      ]
    },
    {
      "cell_type": "markdown",
      "metadata": {
        "id": "OJ3-8UIrWd4N"
      },
      "source": [
        "## Part 2: Dealing with confounders"
      ]
    },
    {
      "cell_type": "markdown",
      "metadata": {
        "tags": [],
        "id": "Jl2LBVxlWd4N"
      },
      "source": [
        "### Alpha Diversity - complete dataset"
      ]
    },
    {
      "cell_type": "markdown",
      "metadata": {
        "id": "_fUh5wU8Wd4N"
      },
      "source": [
        "The full Hill-Burns 2017 dataset files are in the MATERIALS FOLDER. Let's load them into QIIME2 now.\n",
        "\n",
        "We'll keep this analysis in the `complete_study` folder so we don't confuse our files from earlier.\n",
        "\n",
        "If you get lost at any point, the outputs generated from the complete dataset can be found in `treasure_chest/complete_study_outputs`"
      ]
    },
    {
      "cell_type": "code",
      "execution_count": null,
      "metadata": {
        "id": "R_XdxV03Wd4N"
      },
      "outputs": [],
      "source": [
        "# Copy full dataset directory into your local directory\n",
        "![ -d complete_study ] || cp -r treasure_chest/complete_study ."
      ]
    },
    {
      "cell_type": "markdown",
      "metadata": {
        "id": "1NqojpMPWd4N"
      },
      "source": [
        "We now have a LOT more metadata than before. Let's take a peek."
      ]
    },
    {
      "cell_type": "code",
      "execution_count": null,
      "metadata": {
        "id": "0jyG_mSSWd4N"
      },
      "outputs": [],
      "source": [
        "complete_metadata = pd.read_csv('complete_study/complete_metadata.tsv', sep='\\t')\n",
        "print(complete_metadata.shape)\n",
        "complete_metadata.head()"
      ]
    },
    {
      "cell_type": "markdown",
      "metadata": {
        "id": "6bz_n3T8Wd4N"
      },
      "source": [
        "In the original paper, the authors found that anticholinergic medications, catechol-O-methyltransferase (comt) inhibitors, location, sex, age, and PD had significant, independent signals on microbiome composition. How does alpha diversity vary across these variables?"
      ]
    },
    {
      "cell_type": "code",
      "execution_count": null,
      "metadata": {
        "id": "BCb5e2__Wd4N"
      },
      "outputs": [],
      "source": [
        "!qiime diversity alpha-group-significance \\\n",
        "    --i-alpha-diversity complete_study/diversity/shannon_vector.qza \\\n",
        "    --m-metadata-file complete_study/complete_metadata.tsv \\\n",
        "    --o-visualization complete_study/diversity/alpha_groups.qzv"
      ]
    },
    {
      "cell_type": "markdown",
      "metadata": {
        "id": "M9S6gtM8Wd4N"
      },
      "source": [
        "Once again, view in [QIIME2 viewer](http://view.qiime2.org).\n",
        "\n",
        "Notice that `alpha-group-significance` performs a _separate_ Kruskal-Wallis test for each variable, and outputs an _un-adjusted p-value_. If we want to analyze _multiple_ alpha diversity-covariate relationships (i.e. perform multiple tests), then we need to _control the false discovery rate (FDR) by correcting our p-values_. We will go over this later."
      ]
    },
    {
      "cell_type": "markdown",
      "metadata": {
        "tags": [],
        "id": "8xCH-jGNWd4N"
      },
      "source": [
        "### PCoA + PERMANOVA for Beta diversity"
      ]
    },
    {
      "cell_type": "markdown",
      "metadata": {
        "id": "kvwg5MCNWd4N"
      },
      "source": [
        "Since we now have n = 300+, we can include more variables in our PERMANOVA."
      ]
    },
    {
      "cell_type": "markdown",
      "metadata": {
        "id": "zDnGVAJOWd4N"
      },
      "source": [
        "First, let's run PERMANOVA for just disease status so we can really see what adding covariates does to our results"
      ]
    },
    {
      "cell_type": "code",
      "execution_count": null,
      "metadata": {
        "id": "kAGtrkuAWd4N"
      },
      "outputs": [],
      "source": [
        "!qiime diversity adonis \\\n",
        "    --i-distance-matrix complete_study/diversity/weighted_unifrac_distance_matrix.qza \\\n",
        "    --m-metadata-file complete_study/complete_metadata.tsv \\\n",
        "    --p-formula \"parkinson_disease\" \\\n",
        "    --p-n-jobs 2 \\\n",
        "    --o-visualization complete_study/diversity/permanova_PD.qzv"
      ]
    },
    {
      "cell_type": "markdown",
      "metadata": {
        "id": "AIMcYJ4dWd4N"
      },
      "source": [
        "If you look at the table in [QIIME2 viewer](http://view.qiime2.org), you'll notice that since our sample size increased, the effect of PD on UniFrac beta diversity (though very small at R-squared = 0.01) is now significant (at least before FDR corrections)."
      ]
    },
    {
      "cell_type": "markdown",
      "metadata": {
        "id": "WCwadPP3Wd4N"
      },
      "source": [
        "We can also use PERMANOVA to identify confounders. PERMANOVA tells us how much variance in the community composition is explained by each variable. Common confounders include sex, age, BMI, diet, and antibiotic use. In the original study, authors identified that Parkinson's Disease medications were associated with different microbiome compositions. Let's take a look at these variables."
      ]
    },
    {
      "cell_type": "markdown",
      "metadata": {
        "id": "Wz5k8oSCWd4N"
      },
      "source": [
        "But wait - `adonis` requires any variables in the formula to have no NaN/missing values! If we tried to run `adonis` with all of these variables, it would throw an error. So we will have to **filter** out samples that have NA values for any variables we want to test.\n",
        "\n",
        "Let's look at the metadata file to see which variables have NaN values."
      ]
    },
    {
      "cell_type": "code",
      "execution_count": null,
      "metadata": {
        "id": "Ftgm4rrfWd4N"
      },
      "outputs": [],
      "source": [
        "metadata_perm = complete_metadata[['parkinson_disease', 'sex', 'age', 'bmi', 'comt_inhibitor', 'carbidopa_levodopa', 'anticholinergic', 'location']].copy()\n",
        "metadata_perm"
      ]
    },
    {
      "cell_type": "code",
      "execution_count": null,
      "metadata": {
        "id": "kSsjq-N7Wd4N"
      },
      "outputs": [],
      "source": [
        "# what variables have N/A values for the PERMANOVA we want to run?\n",
        "col_na_num = metadata_perm.isna().sum()\n",
        "col_na = col_na_num[col_na_num > 0]\n",
        "col_na"
      ]
    },
    {
      "cell_type": "markdown",
      "metadata": {
        "id": "z8bbc_sQWd4N"
      },
      "source": [
        "Looks like a subset of people did not fill out these questions. How many samples will we have if we filter them out?"
      ]
    },
    {
      "cell_type": "code",
      "execution_count": null,
      "metadata": {
        "id": "S68C6bn0Wd4N"
      },
      "outputs": [],
      "source": [
        "metadata_perm.dropna(axis=0, subset=['bmi', 'comt_inhibitor', 'carbidopa_levodopa', 'anticholinergic'], how='any')"
      ]
    },
    {
      "cell_type": "markdown",
      "metadata": {
        "id": "Q5d4iT6RWd4N"
      },
      "source": [
        "We can use the QIIME action `filter-distance-matrix` this time"
      ]
    },
    {
      "cell_type": "code",
      "execution_count": null,
      "metadata": {
        "id": "cCmFiOZMWd4N"
      },
      "outputs": [],
      "source": [
        "# filter QIIME table\n",
        "!qiime diversity filter-distance-matrix \\\n",
        "    --i-distance-matrix complete_study/diversity/weighted_unifrac_distance_matrix.qza \\\n",
        "    --m-metadata-file complete_study/complete_metadata.tsv \\\n",
        "    --p-where \"[bmi] IS NOT NULL AND [comt_inhibitor] IS NOT NULL AND [carbidopa_levodopa] IS NOT NULL AND [anticholinergic] IS NOT NULL\" \\\n",
        "    --o-filtered-distance-matrix complete_study/diversity/weighted_unifrac_distance_matrix_no_NA.qza"
      ]
    },
    {
      "cell_type": "code",
      "execution_count": null,
      "metadata": {
        "id": "Slgg73wYWd4N"
      },
      "outputs": [],
      "source": [
        "!qiime diversity adonis \\\n",
        "    --i-distance-matrix complete_study/diversity/weighted_unifrac_distance_matrix_no_NA.qza \\\n",
        "    --m-metadata-file complete_study/complete_metadata.tsv \\\n",
        "    --p-formula \"parkinson_disease + sex + age + bmi + location + comt_inhibitor + carbidopa_levodopa + anticholinergic\" \\\n",
        "    --p-n-jobs 2 \\\n",
        "    --o-visualization complete_study/diversity/permanova_with_confounders.qzv"
      ]
    },
    {
      "cell_type": "markdown",
      "metadata": {
        "id": "ScPyTYHpWd4N"
      },
      "source": [
        "Before, we did not see a significant p-value for the effect of Parkinson's disease on beta diversity. However, when we add certain covariates, we might find that they were confounding a relationship.\n",
        "\n",
        "However, most of our variance remains unexplained. Microbiome composition is affected by many things, and this is an uncontrolled cohort study, so we would not expect any single variable to explain most of the variance."
      ]
    },
    {
      "cell_type": "markdown",
      "metadata": {
        "id": "w_JJmaqDWd4O"
      },
      "source": [
        "#### Dimensionality reduction"
      ]
    },
    {
      "cell_type": "markdown",
      "metadata": {
        "id": "lrSx4aUxWd4O"
      },
      "source": [
        "If we want to __visually__ show this separation between samples, we can't just plot the entire UniFrac distance matrix, because it has 100+ dimensions! Instead, we can use **dimensionality reduction** to \"compress\" our data into a few dimensions that explain most of the variance. There are several types of dimensionality reduction (like UMAP and tSNE), but the preferred method of dimensionality reduction for microbiome communities is Principal Coordinate Analysis (PCoA). This is because PCoA is linear, and thus preserves the global structure of the data and is reproducible."
      ]
    },
    {
      "cell_type": "markdown",
      "metadata": {
        "id": "Wu_rUqpjWd4O"
      },
      "source": [
        "We already ran a PCoAs for each distance metric, and we can look at them if we download `weighted_unifrac_emperor.qzv`, `unweighted_unifrac_emperor.qzv`, `bray_curtis_emperor.qzv`, or `jaccard_emperor.qzv`"
      ]
    },
    {
      "cell_type": "markdown",
      "metadata": {
        "id": "XTXoJhjs0fAY"
      },
      "source": [
        "---\n",
        "# Taxonomic Classification"
      ]
    },
    {
      "cell_type": "markdown",
      "metadata": {
        "id": "SNHkvSPYWd4O"
      },
      "source": [
        "### From ASV to taxonomic count table"
      ]
    },
    {
      "cell_type": "markdown",
      "metadata": {
        "id": "CR2f0q4trGfA"
      },
      "source": [
        "We can learn a lot from diversity metrics, alpha and beta. But to really dig into the data, we need to know what microbes are in each sample 🦠. To do this, we'll classify the reads in QIIME2 using a pre-trained Bayesian classifier. Several such classifiers are available at https://docs.qiime2.org/2024.5/data-resources/\n",
        "\n",
        "From the QIIME2 plugin `feature-classifier`, we will use the action the action `classifiy-sklearn` which takes your ASVs and a pre-trained scikit-learn classifier as inputs. We are using a Naive Bayesian classifier specific to the 16S V4 region (515f-806r) because that is the region we sequence, but also it will make it easier to run MICOM tomorrow!"
      ]
    },
    {
      "cell_type": "code",
      "execution_count": null,
      "metadata": {
        "id": "firXAVIHrEzT"
      },
      "outputs": [],
      "source": [
        "# run a classifier on our 10-sample mini dataset\n",
        "!qiime feature-classifier classify-sklearn \\\n",
        "    --i-reads dada/representative_sequences.qza \\\n",
        "    --i-classifier ncbi-refseq-genus-515f-806r.qza \\\n",
        "    --p-n-jobs 2 \\\n",
        "    --o-classification taxa.qza"
      ]
    },
    {
      "cell_type": "markdown",
      "metadata": {
        "id": "ftEKkIx-uJtA"
      },
      "source": [
        "Now we've classified the reads, we can visualize the taxonomic breakdown of our samples."
      ]
    },
    {
      "cell_type": "code",
      "execution_count": null,
      "metadata": {
        "id": "RSRrxhX7x4dE"
      },
      "outputs": [],
      "source": [
        "!qiime taxa barplot \\\n",
        "    --i-table dada/table.qza \\\n",
        "    --i-taxonomy taxa.qza \\\n",
        "    --m-metadata-file data/metadata.tsv \\\n",
        "    --o-visualization taxa_barplot.qzv"
      ]
    },
    {
      "cell_type": "markdown",
      "metadata": {
        "id": "LbZ2f-kOx4jY"
      },
      "source": [
        "Now, we can use ```table.qza```, which contains our reads, and ```taxa.qza```, which contains taxonomic classifications for reads, and collapse the data onto the genus level."
      ]
    },
    {
      "cell_type": "code",
      "execution_count": null,
      "metadata": {
        "id": "XTClvRnXx4ob"
      },
      "outputs": [],
      "source": [
        "!qiime taxa collapse \\\n",
        "    --i-table dada/table.qza \\\n",
        "    --i-taxonomy taxa.qza \\\n",
        "    --p-level 6 \\\n",
        "    --o-collapsed-table genus.qza"
      ]
    },
    {
      "cell_type": "markdown",
      "metadata": {
        "id": "Ffjk8DOaWd4O"
      },
      "source": [
        "### Exporting your taxa table"
      ]
    },
    {
      "cell_type": "markdown",
      "metadata": {
        "id": "zZPj_eiux9DP"
      },
      "source": [
        "Taxonomic feature tables in QIIME2 can be exported as .biom files, which can then be converted to .tsv files if desired. This is important, because some analysis methods not available on QIIME2 may require .biom or .tsv formats.\n",
        "\n",
        "We'll export this as a .tsv, which will be more usable for the next portion of the course that you'll see tomorrow."
      ]
    },
    {
      "cell_type": "code",
      "execution_count": null,
      "metadata": {
        "id": "deJ-FLcTx9Jq"
      },
      "outputs": [],
      "source": [
        "!qiime tools export \\\n",
        "    --input-path genus.qza \\\n",
        "    --output-path exported\n",
        "\n",
        "!biom convert -i exported/feature-table.biom -o genus.tsv --to-tsv"
      ]
    },
    {
      "cell_type": "markdown",
      "metadata": {
        "id": "_1jjxJv5Pzwr"
      },
      "source": [
        "Let's peek at the results 🔭"
      ]
    },
    {
      "cell_type": "code",
      "execution_count": null,
      "metadata": {
        "id": "nrq3gtn42kWv"
      },
      "outputs": [],
      "source": [
        "abundances = pd.read_table(\"genus.tsv\", skiprows=1, index_col=0)\n",
        "abundances"
      ]
    },
    {
      "cell_type": "markdown",
      "metadata": {
        "id": "ROKU7_tcyFKD"
      },
      "source": [
        "This is easier to interpret by visualizing the results. We can use the file we just exported from QIIME2 to build a visualization using any tool we like, such as seaborn or plotnine.\n",
        "\n",
        "Here is an example of building a visualization (a heatmap) in seaborn:"
      ]
    },
    {
      "cell_type": "code",
      "execution_count": null,
      "metadata": {
        "id": "vC5qKf680fAa"
      },
      "outputs": [],
      "source": [
        "import numpy as np\n",
        "import seaborn as sns"
      ]
    },
    {
      "cell_type": "code",
      "execution_count": null,
      "metadata": {
        "id": "YOHG-0nXquu5"
      },
      "outputs": [],
      "source": [
        "abund_to_plot = abundances.copy()\n",
        "abund_to_plot.index = abund_to_plot.index.str.split(\";\").str[5]          # Use only the genus name\n",
        "abund_to_plot = abund_to_plot[~abund_to_plot.index.isin([\"g__\", \"__\"])]  # remove unclassified genera\n",
        "abund_to_plot = abund_to_plot.sample(50, axis=0)                         # use 50 random genera (rows)\n",
        "\n",
        "# Let's do a centered log-ratio transform: log x_i - log mean(x)\n",
        "transformed = abund_to_plot.apply(\n",
        "    lambda xs: np.log(xs + 0.5) - np.log(xs.mean() + 0.5),\n",
        "    axis=0)\n",
        "\n",
        "sns.clustermap(transformed.T, cmap=\"magma\", xticklabels=True, figsize=(16, 6))"
      ]
    },
    {
      "cell_type": "markdown",
      "metadata": {
        "id": "GfzsEjtS0fAb"
      },
      "source": [
        "Now, our data is starting to be interpretable. Each row is a sample, and each column is a bacterial genus. The table values are \"counts\", or the number of times a genus was detected in a certain sample. We can use relative abundance data to test hypotheses, but it requires special statistical methods because it is ___compositional___.\n",
        "\n",
        "Let's discuss what we can do about that in the [presentation](https://gibbons-lab.github.io/isb_course_2024/16S)."
      ]
    },
    {
      "cell_type": "markdown",
      "metadata": {
        "id": "-N5E8lW40fAb"
      },
      "source": [
        "---\n",
        "# Differential Abundance Analysis"
      ]
    },
    {
      "cell_type": "markdown",
      "metadata": {
        "id": "SlIOGnRJWd4O"
      },
      "source": [
        "Let's look at abundances in the _complete_ dataset, so you can see the abundance distributions."
      ]
    },
    {
      "cell_type": "markdown",
      "metadata": {
        "id": "U3zcaHc9Wd4P"
      },
      "source": [
        "We're going to be switching to python to show you these transformations, so we'll need a few more packages 📦"
      ]
    },
    {
      "cell_type": "code",
      "execution_count": null,
      "metadata": {
        "id": "aK5_3hN4Wd4P"
      },
      "outputs": [],
      "source": [
        "import scipy.stats as stats\n",
        "import matplotlib.pyplot as plt"
      ]
    },
    {
      "cell_type": "markdown",
      "metadata": {
        "tags": [],
        "id": "AW3TW2qfWd4P"
      },
      "source": [
        "### Counts to relative abundance:"
      ]
    },
    {
      "cell_type": "markdown",
      "metadata": {
        "id": "I49KJWk6Wd4P"
      },
      "source": [
        "Before we do any testing, we need to divide genus counts by total sample counts. This gives us _relative abundance_"
      ]
    },
    {
      "cell_type": "code",
      "execution_count": null,
      "metadata": {
        "id": "7q4a8ehkWd4P"
      },
      "outputs": [],
      "source": [
        "complete_abundances = pd.read_table('complete_study/genus.tsv', skiprows=1, index_col=0)\n",
        "complete_abundances"
      ]
    },
    {
      "cell_type": "code",
      "execution_count": null,
      "metadata": {
        "id": "jYrsykJgWd4P"
      },
      "outputs": [],
      "source": [
        "rel_abund = complete_abundances.divide(complete_abundances.sum(axis=0), axis=1)     # divide all values in a row by the sum of the row\n",
        "rel_abund"
      ]
    },
    {
      "cell_type": "markdown",
      "metadata": {
        "tags": [],
        "id": "HfScqbbIWd4P"
      },
      "source": [
        "### Preprocessing:"
      ]
    },
    {
      "cell_type": "markdown",
      "metadata": {
        "id": "p1chQhV-Wd4P"
      },
      "source": [
        "Do any rows have entirely zero?"
      ]
    },
    {
      "cell_type": "code",
      "execution_count": null,
      "metadata": {
        "id": "ZcMhh3EBWd4P"
      },
      "outputs": [],
      "source": [
        "rows_with_zeros = rel_abund.eq(0).all(axis=1)\n",
        "count_row_zeros = rows_with_zeros.sum()\n",
        "count_row_zeros"
      ]
    },
    {
      "cell_type": "markdown",
      "metadata": {
        "id": "_RVGWQ8WWd4P"
      },
      "source": [
        "How many rows (genera) are not present in most samples (zero in >80% of samples?)"
      ]
    },
    {
      "cell_type": "code",
      "execution_count": null,
      "metadata": {
        "id": "IFK4Gao4Wd4P"
      },
      "outputs": [],
      "source": [
        "# identify sparse rows\n",
        "num_zeros_row = rel_abund.eq(0).sum(axis=1)\n",
        "num_cols = rel_abund.shape[1]\n",
        "sparse_rows = num_zeros_row > (0.8 * num_cols)\n",
        "print(sparse_rows.sum())\n",
        "\n",
        "# remove sparse rows\n",
        "abund_filt = rel_abund[~sparse_rows]\n",
        "\n",
        "# transpose to make samples rows rather than genera (match formatting of our metadata)\n",
        "abund_filt = abund_filt.T\n",
        "abund_filt"
      ]
    },
    {
      "cell_type": "markdown",
      "metadata": {
        "id": "8jO9c4fHWd4P"
      },
      "source": [
        "Save the column names of genera in a list, then merge the abundance and metadata tables."
      ]
    },
    {
      "cell_type": "code",
      "execution_count": null,
      "metadata": {
        "tags": [],
        "id": "DlXyZrpuWd4P"
      },
      "outputs": [],
      "source": [
        "genus_columns = abund_filt.columns                                                            # get a list of abundance column names\n",
        "complete_metadata.set_index('id', inplace=True)                                               # change the index (row names) of metadata to the column 'id'\n",
        "merged_rel_abund = complete_metadata.merge(abund_filt, left_index=True, right_index=True)     # merge the two dataframes by their index (row names)"
      ]
    },
    {
      "cell_type": "code",
      "execution_count": null,
      "metadata": {
        "id": "Ka40nEo5Wd4P"
      },
      "outputs": [],
      "source": [
        "# Make a histogram of Faecalibacterium split by PD status\n",
        "\n",
        "sns.displot(data=merged_rel_abund,\n",
        "            x='k__Bacteria;p__Firmicutes;c__Clostridia;o__Eubacteriales;f__Oscillospiraceae;g__Faecalibacterium',\n",
        "            hue='parkinson_disease')\n",
        "\n",
        "plt.xlabel('Faecalibacterium relative abundance')\n",
        "plt.ylabel('Number of samples')\n",
        "plt.show()"
      ]
    },
    {
      "cell_type": "markdown",
      "metadata": {
        "tags": [],
        "id": "VgSL_N_9Wd4P"
      },
      "source": [
        "### 1. Nonparametric tests"
      ]
    },
    {
      "cell_type": "markdown",
      "metadata": {
        "id": "B-ukfayvWd4P"
      },
      "source": [
        "If we wanted to test whether Faecalibacterium specifically was differentially abundant in PD, we could do this:"
      ]
    },
    {
      "cell_type": "code",
      "execution_count": null,
      "metadata": {
        "id": "yQ8dihUZWd4P"
      },
      "outputs": [],
      "source": [
        "# split the variable of interest into 2 lists by PD status\n",
        "faecali_pd = merged_rel_abund[merged_rel_abund['parkinson_disease'] == 'Yes']['k__Bacteria;p__Firmicutes;c__Clostridia;o__Eubacteriales;f__Oscillospiraceae;g__Faecalibacterium']\n",
        "faecali_hc = merged_rel_abund[merged_rel_abund['parkinson_disease'] == 'No']['k__Bacteria;p__Firmicutes;c__Clostridia;o__Eubacteriales;f__Oscillospiraceae;g__Faecalibacterium']\n",
        "\n",
        "u_stat, p_value = stats.mannwhitneyu(faecali_pd, faecali_hc, alternative='two-sided')\n",
        "\n",
        "print(f\"U-statistic: {u_stat}\")\n",
        "print(f\"p-value: {p_value}\")"
      ]
    },
    {
      "cell_type": "markdown",
      "metadata": {
        "id": "g1-siGNFWd4P"
      },
      "source": [
        "We would see that yes, if we only perform one test, it appears that Faecalibacterium mean relative abundance is significantly different between PD and healthy controls (with p < 0.05)"
      ]
    },
    {
      "cell_type": "markdown",
      "metadata": {
        "id": "GFl0UtJlWd4P"
      },
      "source": [
        "### 2. Normalization + parametric tests:"
      ]
    },
    {
      "cell_type": "markdown",
      "metadata": {
        "id": "2lwzh_GYWd4P"
      },
      "source": [
        "Before we can do a CLR transform, we have to add a pseudocount, because log(0) does not exist."
      ]
    },
    {
      "cell_type": "code",
      "execution_count": null,
      "metadata": {
        "id": "0YwV21POWd4P"
      },
      "outputs": [],
      "source": [
        "# keep track of which values are nonzero\n",
        "abund_nonzero = abund_filt > 0\n",
        "\n",
        "# add a pseudocount\n",
        "abund_filt_pseudo = abund_filt + 0.0000001\n",
        "abund_filt_pseudo"
      ]
    },
    {
      "cell_type": "markdown",
      "metadata": {
        "id": "BxjikaJHWd4P"
      },
      "source": [
        "Now that we have pseudocounts, we can do the CLR transform. Here, we use the scipy.stats.mstats function gmean and compute the CLR manually."
      ]
    },
    {
      "cell_type": "code",
      "execution_count": null,
      "metadata": {
        "id": "EABo0Ei3Wd4P"
      },
      "outputs": [],
      "source": [
        "# make a new col for gmean\n",
        "abund_clr = abund_filt_pseudo.copy()\n",
        "abund_clr['gmean'] = abund_clr.apply(stats.mstats.gmean, axis=1, nan_policy='omit')\n",
        "\n",
        "# actual CLR\n",
        "abund_clr = np.log(abund_clr.divide(abund_clr['gmean'], axis=0))\n",
        "\n",
        "# check gmean to make sure CLR went correctly\n",
        "# gmean should be all zeros (because log(x)/log(x) = log(x/x) = log(1) = 0)\n",
        "abund_clr"
      ]
    },
    {
      "cell_type": "code",
      "execution_count": null,
      "metadata": {
        "id": "rYanQHXmWd4P"
      },
      "outputs": [],
      "source": [
        "# drop gmean\n",
        "abund_clr.drop(columns='gmean', inplace=True)"
      ]
    },
    {
      "cell_type": "markdown",
      "metadata": {
        "id": "ugKRf6FVWd4P"
      },
      "source": [
        "Now, let's see what the transformation did to our data. We can make the same plot as before"
      ]
    },
    {
      "cell_type": "code",
      "execution_count": null,
      "metadata": {
        "id": "RyEXoRMZWd4P"
      },
      "outputs": [],
      "source": [
        "sns.displot(data=abund_clr,\n",
        "            x='k__Bacteria;p__Firmicutes;c__Clostridia;o__Eubacteriales;f__Oscillospiraceae;g__Faecalibacterium')\n",
        "plt.xlabel('Faecalibacterium CLR')\n",
        "plt.ylabel('Number of samples')\n",
        "plt.show()"
      ]
    },
    {
      "cell_type": "markdown",
      "metadata": {
        "id": "HJlg566DWd4Q"
      },
      "source": [
        "Now, we have a bimodal distribution due to the presence of zeros. At this point, the most conservative option is to remove these values, because we cannot be sure if they are true zeros."
      ]
    },
    {
      "cell_type": "code",
      "execution_count": null,
      "metadata": {
        "id": "N4xeoIU-Wd4Q"
      },
      "outputs": [],
      "source": [
        "# drop the samples that were zero (make NA so they will not be plotted)\n",
        "abund_clr_nonzero = abund_clr[abund_nonzero]"
      ]
    },
    {
      "cell_type": "code",
      "execution_count": null,
      "metadata": {
        "id": "wzvigBRdWd4Q"
      },
      "outputs": [],
      "source": [
        "# now try plotting again\n",
        "sns.displot(data=abund_clr_nonzero,\n",
        "            x='k__Bacteria;p__Firmicutes;c__Clostridia;o__Eubacteriales;f__Oscillospiraceae;g__Faecalibacterium')\n",
        "plt.xlabel('Faecalibacterium CLR')\n",
        "plt.ylabel('Number of samples')\n",
        "plt.show()"
      ]
    },
    {
      "cell_type": "markdown",
      "metadata": {
        "id": "3URtah57Wd4Q"
      },
      "source": [
        "Now our data is _normal-ish_ (though still a bit skewed) but probably safe to use with parametric tests! This means we are ready to merge it back to the metadata."
      ]
    },
    {
      "cell_type": "code",
      "execution_count": null,
      "metadata": {
        "id": "36PvkxK7Wd4Q"
      },
      "outputs": [],
      "source": [
        "merged_clr = complete_metadata.merge(abund_clr_nonzero, left_index=True, right_index=True)     # merge the two dataframes by their index (row names)\n",
        "merged_clr"
      ]
    },
    {
      "cell_type": "markdown",
      "metadata": {
        "id": "0XUZRWJ-Wd4Q"
      },
      "source": [
        "The code to perform a t-test is very similar to that of a Mann-Whitney U-test, but we need to also remove NAs.\n",
        "\n",
        "We can accomplish this by adding `dropna()` to the end of our group assignment"
      ]
    },
    {
      "cell_type": "code",
      "execution_count": null,
      "metadata": {
        "id": "X7mEsJhiWd4Q"
      },
      "outputs": [],
      "source": [
        "# how we would do one t-test\n",
        "faecali_clr_pd = merged_clr[merged_clr['parkinson_disease'] == 'Yes']['k__Bacteria;p__Firmicutes;c__Clostridia;o__Eubacteriales;f__Oscillospiraceae;g__Faecalibacterium'].dropna()\n",
        "faecali_clr_hc = merged_clr[merged_clr['parkinson_disease'] == 'No']['k__Bacteria;p__Firmicutes;c__Clostridia;o__Eubacteriales;f__Oscillospiraceae;g__Faecalibacterium'].dropna()\n",
        "\n",
        "t_stat, p_val = stats.ttest_ind(faecali_clr_pd, faecali_clr_hc, equal_var=False)\n",
        "\n",
        "print(f\"T-stat: {t_stat}\")\n",
        "print(f\"p-value: {p_val}\")"
      ]
    },
    {
      "cell_type": "markdown",
      "metadata": {
        "id": "Kh4YmS4UWd4Q"
      },
      "source": [
        "In people with _measurable_ amounts of Faecalibacterium, people with PD have significantly lower Faecalibacterium than people without.\n",
        "\n",
        "Notice how in trimming our data, we are now testing a different question."
      ]
    },
    {
      "cell_type": "markdown",
      "metadata": {
        "id": "oicEvzJdWd4Q"
      },
      "source": [
        "### Multiple testing and FDR correction:"
      ]
    },
    {
      "cell_type": "markdown",
      "metadata": {
        "id": "qtVx1LRAWd4Q"
      },
      "source": [
        "With this much interesting data, it would be pretty tedious to test variables one-by-one. This is why we made a list `genus_column` earlier."
      ]
    },
    {
      "cell_type": "code",
      "execution_count": null,
      "metadata": {
        "id": "vF4NMcPTWd4Q"
      },
      "outputs": [],
      "source": [
        "# Create an empty list to store test results\n",
        "t_test_results = []\n",
        "\n",
        "# Loop through each genus column and perform the t-test\n",
        "for genus in genus_columns:\n",
        "    # Separate the data for Parkinson's disease 'Yes' and 'No' groups\n",
        "    pd_group = merged_clr[merged_clr['parkinson_disease'] == 'Yes'][genus].dropna()\n",
        "    hc_group = merged_clr[merged_clr['parkinson_disease'] == 'No'][genus].dropna()\n",
        "\n",
        "    # Perform the t-test\n",
        "    if len(pd_group) > 0 and len(hc_group) > 0:  # Only perform test if there are values in both groups\n",
        "        t_stat, p_val = stats.ttest_ind(pd_group, hc_group, equal_var=False)\n",
        "\n",
        "        # Store the results\n",
        "        t_test_results.append({\n",
        "            'genus': genus,\n",
        "            't_stat': t_stat,\n",
        "            'p_val': p_val,\n",
        "            'n_pd': len(pd_group),\n",
        "            'n_hc': len(hc_group)\n",
        "        })\n",
        "\n",
        "# Convert the results into a DataFrame\n",
        "ttest_results_df = pd.DataFrame(t_test_results)"
      ]
    },
    {
      "cell_type": "code",
      "execution_count": null,
      "metadata": {
        "id": "VofDOz3KWd4Q"
      },
      "outputs": [],
      "source": [
        "# take a look at our results dataframe\n",
        "ttest_results_df"
      ]
    },
    {
      "cell_type": "markdown",
      "metadata": {
        "id": "CF8YSW7FWd4Q"
      },
      "source": [
        "What does our p-value distribution look like?"
      ]
    },
    {
      "cell_type": "code",
      "execution_count": null,
      "metadata": {
        "id": "EXFMHbHeWd4Q"
      },
      "outputs": [],
      "source": [
        "sns.histplot(data=ttest_results_df, x='p_val', bins=13)\n",
        "plt.xlabel('p-value')\n",
        "plt.ylabel('number of t-tests')\n",
        "plt.show()"
      ]
    },
    {
      "cell_type": "markdown",
      "metadata": {
        "id": "NgE17m1pWd4Q"
      },
      "source": [
        "Looks ok? We expect a left skew given both true and false positives."
      ]
    },
    {
      "cell_type": "markdown",
      "metadata": {
        "id": "qlT4oU8zWd4Q"
      },
      "source": [
        "When we have a list of p-values, we can easily do FDR correction. We will use a Benjamini-Hochberg (BH) correction, which is less conservative than Bonferroni. The BH corrected p-value, q, is calculated as a function of the entire list of q-values."
      ]
    },
    {
      "cell_type": "code",
      "execution_count": null,
      "metadata": {
        "id": "5mm6jTzUWd4Q"
      },
      "outputs": [],
      "source": [
        "from statsmodels.stats.multitest import multipletests"
      ]
    },
    {
      "cell_type": "code",
      "execution_count": null,
      "metadata": {
        "id": "ujAUZcwGWd4Q"
      },
      "outputs": [],
      "source": [
        "# do the FDR correction (this returns q-values in the order they were given)\n",
        "qvals = multipletests(ttest_results_df['p_val'], method='fdr_bh')[1]\n",
        "\n",
        "# append q-values to dataframe\n",
        "ttest_results_df['q_val'] = qvals\n",
        "\n",
        "# show the new dataframe, but sort by q-value\n",
        "ttest_results_df.sort_values(by='q_val')"
      ]
    },
    {
      "cell_type": "markdown",
      "metadata": {
        "id": "s9upUzdQWd4Q"
      },
      "source": [
        "That's pretty cool! Let's separate just the significant hits, and make a column with some easier-to-plot taxonomic names."
      ]
    },
    {
      "cell_type": "code",
      "execution_count": null,
      "metadata": {
        "id": "HcrxUEQ8Wd4Q"
      },
      "outputs": [],
      "source": [
        "ttest_signif = ttest_results_df[ttest_results_df['q_val'] < 0.1]\n",
        "ttest_signif.loc[:, 'genus_plot'] = ttest_signif['genus'].str.split(';').apply(lambda x: ';'.join(x[-2:])) # take only the last 2 taxonomic levels\n",
        "ttest_signif"
      ]
    },
    {
      "cell_type": "markdown",
      "metadata": {
        "id": "QSarOJb_Wd4Q"
      },
      "source": [
        "How can we visualize this information? Here, I've plotted the T-statistic for each significant hit, colored by q-value."
      ]
    },
    {
      "cell_type": "code",
      "execution_count": null,
      "metadata": {
        "id": "rT8fSSUCWd4Q"
      },
      "outputs": [],
      "source": [
        "# Sort by absolute t-statistic for better visualization\n",
        "ttest_signif = ttest_signif.sort_values(by='t_stat', key=abs, ascending=False)\n",
        "\n",
        "# make a custom color palette that goes from light to dark based on the q-values\n",
        "norm = plt.Normalize(0.0, 0.1)\n",
        "cmap = plt.cm.Blues_r  # color map\n",
        "bar_colors = cmap(norm(ttest_signif['q_val'])).tolist()\n",
        "\n",
        "# Plot\n",
        "fig, ax = plt.subplots(figsize=(10, 6))\n",
        "sns.barplot(data=ttest_signif, x='t_stat', y='genus_plot', palette=bar_colors, hue='genus_plot', ax=ax, legend=False)\n",
        "\n",
        "# Make labels\n",
        "ax.set_title('Differentially Abundant Genera in PD patients')\n",
        "ax.set_xlabel('T-Statistic')\n",
        "ax.set_ylabel('Genus')\n",
        "\n",
        "# make a key for q-values\n",
        "sm = plt.cm.ScalarMappable(cmap=cmap, norm=norm)  # create ScalarMappable object\n",
        "sm.set_array([])  # Empty array for ScalarMappable\n",
        "cbar = plt.colorbar(sm, ax=ax)\n",
        "cbar.set_label('q-value')\n",
        "\n",
        "# Show the plot\n",
        "plt.tight_layout()\n",
        "plt.show()"
      ]
    },
    {
      "cell_type": "markdown",
      "metadata": {
        "id": "WPMlG8w9aCsW",
        "tags": []
      },
      "source": [
        "---\n",
        "# Exercise: Plant a Tree"
      ]
    },
    {
      "cell_type": "markdown",
      "metadata": {
        "id": "hZrVCQE80fAc"
      },
      "source": [
        "One visualization that we did not spend a lot of time on was the phylogentic tree of our ASVs. Let's change that! We have seen that there are genera that appear in multiple populations in the previous step. But are the organisms in that genus actually the same?\n",
        "\n",
        "Let's annotate the tree with our taxonomic classifications and abundances. We will use the empress plugin again but this time with the `community-plot` option. I filled in a template of the command for you. Can you figure out what has to go in the empty spaces?\n",
        "\n",
        "**QUESTIONS:**\n",
        "\n",
        "1) Are some of the branch lengths on the tree longer than you would expect? Do you notice anything interesting or suspicious about the taxonomic identities of these branches?\n",
        "\n",
        "2) Can you find examples of phyla that are polyphyletic (i.e. where clusters of ASVs from the same phylum are found in different locations on the tree, showing different commmon ancestors)? What about polyphyletic taxa at lower taxonomic levels, like at the family or genus levels? Why do you think these patterns exist?"
      ]
    },
    {
      "cell_type": "code",
      "execution_count": null,
      "metadata": {
        "id": "qf-bY5aci4bv"
      },
      "outputs": [],
      "source": [
        "# This won't run until you fill in the [EMPTY] spots with the right files ;)\n",
        "\n",
        "!qiime empress community-plot \\\n",
        "    --i-tree [EMPTY] \\\n",
        "    --i-feature-table dada/table.qza \\\n",
        "    --m-sample-metadata-file [EMPTY] \\\n",
        "    --m-feature-metadata-file taxa.qza \\\n",
        "    --o-visualization community-tree-viz.qzv"
      ]
    }
  ],
  "metadata": {
    "colab": {
      "provenance": [],
      "include_colab_link": true
    },
    "kernelspec": {
      "display_name": "Python 3 (ipykernel)",
      "language": "python",
      "name": "python3"
    },
    "language_info": {
      "codemirror_mode": {
        "name": "ipython",
        "version": 3
      },
      "file_extension": ".py",
      "mimetype": "text/x-python",
      "name": "python",
      "nbconvert_exporter": "python",
      "pygments_lexer": "ipython3",
      "version": "3.11.0"
    }
  },
  "nbformat": 4,
  "nbformat_minor": 0
}